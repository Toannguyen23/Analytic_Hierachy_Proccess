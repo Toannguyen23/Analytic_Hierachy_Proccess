{
 "cells": [
  {
   "cell_type": "code",
   "execution_count": 1,
   "id": "7801caf6",
   "metadata": {},
   "outputs": [],
   "source": [
    "import pandas as pd\n",
    "import numpy as np\n",
    "import math"
   ]
  },
  {
   "cell_type": "code",
   "execution_count": 2,
   "id": "b7c0daa9",
   "metadata": {},
   "outputs": [
    {
     "data": {
      "text/html": [
       "<div>\n",
       "<style scoped>\n",
       "    .dataframe tbody tr th:only-of-type {\n",
       "        vertical-align: middle;\n",
       "    }\n",
       "\n",
       "    .dataframe tbody tr th {\n",
       "        vertical-align: top;\n",
       "    }\n",
       "\n",
       "    .dataframe thead th {\n",
       "        text-align: right;\n",
       "    }\n",
       "</style>\n",
       "<table border=\"1\" class=\"dataframe\">\n",
       "  <thead>\n",
       "    <tr style=\"text-align: right;\">\n",
       "      <th></th>\n",
       "      <th>Thời gian</th>\n",
       "      <th>Môi trường</th>\n",
       "      <th>Cấp thiết</th>\n",
       "      <th>Trang bị</th>\n",
       "      <th>Điều kiện</th>\n",
       "    </tr>\n",
       "  </thead>\n",
       "  <tbody>\n",
       "    <tr>\n",
       "      <th>Thời gian</th>\n",
       "      <td>1.000000</td>\n",
       "      <td>2.00</td>\n",
       "      <td>3.000000</td>\n",
       "      <td>5.000000</td>\n",
       "      <td>7.000000</td>\n",
       "    </tr>\n",
       "    <tr>\n",
       "      <th>Môi trường</th>\n",
       "      <td>0.500000</td>\n",
       "      <td>1.00</td>\n",
       "      <td>0.714286</td>\n",
       "      <td>1.428571</td>\n",
       "      <td>0.444444</td>\n",
       "    </tr>\n",
       "    <tr>\n",
       "      <th>cấp thiết</th>\n",
       "      <td>0.333333</td>\n",
       "      <td>1.40</td>\n",
       "      <td>1.000000</td>\n",
       "      <td>1.250000</td>\n",
       "      <td>0.555556</td>\n",
       "    </tr>\n",
       "    <tr>\n",
       "      <th>Trang bị</th>\n",
       "      <td>0.200000</td>\n",
       "      <td>1.70</td>\n",
       "      <td>1.250000</td>\n",
       "      <td>1.000000</td>\n",
       "      <td>0.714286</td>\n",
       "    </tr>\n",
       "    <tr>\n",
       "      <th>Điều kiện</th>\n",
       "      <td>0.142857</td>\n",
       "      <td>2.25</td>\n",
       "      <td>1.800000</td>\n",
       "      <td>1.400000</td>\n",
       "      <td>1.000000</td>\n",
       "    </tr>\n",
       "  </tbody>\n",
       "</table>\n",
       "</div>"
      ],
      "text/plain": [
       "            Thời gian  Môi trường  Cấp thiết  Trang bị  Điều kiện\n",
       "Thời gian    1.000000        2.00   3.000000  5.000000   7.000000\n",
       "Môi trường   0.500000        1.00   0.714286  1.428571   0.444444\n",
       "cấp thiết    0.333333        1.40   1.000000  1.250000   0.555556\n",
       "Trang bị     0.200000        1.70   1.250000  1.000000   0.714286\n",
       "Điều kiện    0.142857        2.25   1.800000  1.400000   1.000000"
      ]
     },
     "execution_count": 2,
     "metadata": {},
     "output_type": "execute_result"
    }
   ],
   "source": [
    "dict = {\"Thời gian\":[1, 1/2, 1/3, 1/5, 1/7], \n",
    "        \"Môi trường\": [2, 1, 7/5, 17/10, 9/4],\n",
    "        \"Cấp thiết\":[3, 5/7, 1, 5/4, 9/5], \n",
    "        \"Trang bị\": [5, 10/7, 5/4, 1, 7/5],\n",
    "        \"Điều kiện\": [7, 4/9, 5/9, 5/7, 1]}\n",
    "\n",
    "data = pd.DataFrame(dict, index = [\"Thời gian\", \"Môi trường\", \"cấp thiết\", \"Trang bị\", \"Điều kiện\"])\n",
    "data"
   ]
  },
  {
   "cell_type": "code",
   "execution_count": 3,
   "id": "5fabc504",
   "metadata": {},
   "outputs": [],
   "source": [
    "sum_1 = data[\"Thời gian\"].sum()\n",
    "sum_2 = data[\"Môi trường\"].sum()\n",
    "sum_3 = data[\"Cấp thiết\"].sum()\n",
    "sum_4 = data[\"Trang bị\"].sum()\n",
    "sum_5 = data[\"Điều kiện\"].sum()\n"
   ]
  },
  {
   "cell_type": "code",
   "execution_count": 4,
   "id": "523096c2",
   "metadata": {},
   "outputs": [
    {
     "name": "stdout",
     "output_type": "stream",
     "text": [
      "2.176190476190476\n",
      "8.350000000000001\n",
      "7.764285714285714\n",
      "10.07857142857143\n",
      "9.714285714285714\n"
     ]
    }
   ],
   "source": [
    "print(sum_1)\n",
    "print(sum_2)\n",
    "print(sum_3)\n",
    "print(sum_4)\n",
    "print(sum_5)"
   ]
  },
  {
   "cell_type": "code",
   "execution_count": 5,
   "id": "d76f53e7",
   "metadata": {},
   "outputs": [],
   "source": [
    "data_time = []\n",
    "for x in data[\"Thời gian\"]:\n",
    "    data_time.append(x/sum_1)\n",
    "\n",
    "data_env = []\n",
    "for x in data[\"Môi trường\"]:\n",
    "    data_env.append(x/sum_2)\n",
    "    \n",
    "data_ess = []\n",
    "for x in data[\"Cấp thiết\"]:\n",
    "    data_ess.append(x/sum_3)\n",
    "    \n",
    "data_eq = []\n",
    "for x in data[\"Trang bị\"]:\n",
    "    data_eq.append(x/sum_4)\n",
    "    \n",
    "data_con = []\n",
    "for x in data[\"Điều kiện\"]:\n",
    "    data_con.append(x/sum_5)\n",
    "\n",
    "\n",
    "\n",
    "    \n",
    "    "
   ]
  },
  {
   "cell_type": "code",
   "execution_count": 6,
   "id": "292f94bf",
   "metadata": {},
   "outputs": [
    {
     "data": {
      "text/html": [
       "<div>\n",
       "<style scoped>\n",
       "    .dataframe tbody tr th:only-of-type {\n",
       "        vertical-align: middle;\n",
       "    }\n",
       "\n",
       "    .dataframe tbody tr th {\n",
       "        vertical-align: top;\n",
       "    }\n",
       "\n",
       "    .dataframe thead th {\n",
       "        text-align: right;\n",
       "    }\n",
       "</style>\n",
       "<table border=\"1\" class=\"dataframe\">\n",
       "  <thead>\n",
       "    <tr style=\"text-align: right;\">\n",
       "      <th></th>\n",
       "      <th>Thời gian</th>\n",
       "      <th>Môi trường</th>\n",
       "      <th>Cấp thiết</th>\n",
       "      <th>Trang bị</th>\n",
       "      <th>Điều kiện</th>\n",
       "    </tr>\n",
       "  </thead>\n",
       "  <tbody>\n",
       "    <tr>\n",
       "      <th>Thời gian</th>\n",
       "      <td>0.459519</td>\n",
       "      <td>0.239521</td>\n",
       "      <td>0.386385</td>\n",
       "      <td>0.496102</td>\n",
       "      <td>0.720588</td>\n",
       "    </tr>\n",
       "    <tr>\n",
       "      <th>Môi trường</th>\n",
       "      <td>0.229759</td>\n",
       "      <td>0.119760</td>\n",
       "      <td>0.091996</td>\n",
       "      <td>0.141743</td>\n",
       "      <td>0.045752</td>\n",
       "    </tr>\n",
       "    <tr>\n",
       "      <th>cấp thiết</th>\n",
       "      <td>0.153173</td>\n",
       "      <td>0.167665</td>\n",
       "      <td>0.128795</td>\n",
       "      <td>0.124026</td>\n",
       "      <td>0.057190</td>\n",
       "    </tr>\n",
       "    <tr>\n",
       "      <th>Trang bị</th>\n",
       "      <td>0.091904</td>\n",
       "      <td>0.203593</td>\n",
       "      <td>0.160994</td>\n",
       "      <td>0.099220</td>\n",
       "      <td>0.073529</td>\n",
       "    </tr>\n",
       "    <tr>\n",
       "      <th>Điều kiện</th>\n",
       "      <td>0.065646</td>\n",
       "      <td>0.269461</td>\n",
       "      <td>0.231831</td>\n",
       "      <td>0.138909</td>\n",
       "      <td>0.102941</td>\n",
       "    </tr>\n",
       "  </tbody>\n",
       "</table>\n",
       "</div>"
      ],
      "text/plain": [
       "            Thời gian  Môi trường  Cấp thiết  Trang bị  Điều kiện\n",
       "Thời gian    0.459519    0.239521   0.386385  0.496102   0.720588\n",
       "Môi trường   0.229759    0.119760   0.091996  0.141743   0.045752\n",
       "cấp thiết    0.153173    0.167665   0.128795  0.124026   0.057190\n",
       "Trang bị     0.091904    0.203593   0.160994  0.099220   0.073529\n",
       "Điều kiện    0.065646    0.269461   0.231831  0.138909   0.102941"
      ]
     },
     "execution_count": 6,
     "metadata": {},
     "output_type": "execute_result"
    }
   ],
   "source": [
    "data_tabl2 = {\"Thời gian\":data_time, \n",
    "              \"Môi trường\":data_env ,\n",
    "              \"Cấp thiết\": data_ess,\n",
    "              \"Trang bị\": data_eq ,\n",
    "              \"Điều kiện\": data_con }\n",
    "data_tab2 = pd.DataFrame(data_tabl2,index = [\"Thời gian\", \"Môi trường\", \"cấp thiết\", \"Trang bị\", \"Điều kiện\"] )\n",
    "data_tab2"
   ]
  },
  {
   "cell_type": "code",
   "execution_count": 7,
   "id": "34e6d1ad",
   "metadata": {},
   "outputs": [],
   "source": [
    "citeria = []\n",
    "for i in range(len(data_tab2.columns)):\n",
    "    citeria.append(data_tab2.iloc[i].mean())\n"
   ]
  },
  {
   "cell_type": "code",
   "execution_count": 8,
   "id": "0be85810",
   "metadata": {},
   "outputs": [],
   "source": [
    "dict_ci = {\"Citeria\" : citeria}\n",
    "df_ci = pd.DataFrame(dict_ci,index = [\"Thời gian\", \"Môi trường\", \"cấp thiết\", \"Trang bị\", \"Điều kiện\"] )"
   ]
  },
  {
   "cell_type": "code",
   "execution_count": 9,
   "id": "f4025c48",
   "metadata": {},
   "outputs": [],
   "source": [
    "cer_1 = pd.Series(citeria, name=\"Citeria\")"
   ]
  },
  {
   "cell_type": "code",
   "execution_count": 10,
   "id": "9f235ed5",
   "metadata": {},
   "outputs": [
    {
     "data": {
      "text/plain": [
       "Thời gian     0.460423\n",
       "Môi trường    0.125802\n",
       "cấp thiết     0.126169\n",
       "Trang bị      0.125848\n",
       "Điều kiện     0.161757\n",
       "Name: Citeria, dtype: float64"
      ]
     },
     "execution_count": 10,
     "metadata": {},
     "output_type": "execute_result"
    }
   ],
   "source": [
    "df_ci.Citeria"
   ]
  },
  {
   "cell_type": "code",
   "execution_count": 11,
   "id": "c28bbe1c",
   "metadata": {},
   "outputs": [],
   "source": [
    "data_tab2_ci = data_tab2.join(df_ci['Citeria'])"
   ]
  },
  {
   "cell_type": "code",
   "execution_count": 12,
   "id": "f165e010",
   "metadata": {},
   "outputs": [
    {
     "data": {
      "text/html": [
       "<div>\n",
       "<style scoped>\n",
       "    .dataframe tbody tr th:only-of-type {\n",
       "        vertical-align: middle;\n",
       "    }\n",
       "\n",
       "    .dataframe tbody tr th {\n",
       "        vertical-align: top;\n",
       "    }\n",
       "\n",
       "    .dataframe thead th {\n",
       "        text-align: right;\n",
       "    }\n",
       "</style>\n",
       "<table border=\"1\" class=\"dataframe\">\n",
       "  <thead>\n",
       "    <tr style=\"text-align: right;\">\n",
       "      <th></th>\n",
       "      <th>Thời gian</th>\n",
       "      <th>Môi trường</th>\n",
       "      <th>Cấp thiết</th>\n",
       "      <th>Trang bị</th>\n",
       "      <th>Điều kiện</th>\n",
       "      <th>Citeria</th>\n",
       "    </tr>\n",
       "  </thead>\n",
       "  <tbody>\n",
       "    <tr>\n",
       "      <th>Thời gian</th>\n",
       "      <td>0.459519</td>\n",
       "      <td>0.239521</td>\n",
       "      <td>0.386385</td>\n",
       "      <td>0.496102</td>\n",
       "      <td>0.720588</td>\n",
       "      <td>0.460423</td>\n",
       "    </tr>\n",
       "    <tr>\n",
       "      <th>Môi trường</th>\n",
       "      <td>0.229759</td>\n",
       "      <td>0.119760</td>\n",
       "      <td>0.091996</td>\n",
       "      <td>0.141743</td>\n",
       "      <td>0.045752</td>\n",
       "      <td>0.125802</td>\n",
       "    </tr>\n",
       "    <tr>\n",
       "      <th>cấp thiết</th>\n",
       "      <td>0.153173</td>\n",
       "      <td>0.167665</td>\n",
       "      <td>0.128795</td>\n",
       "      <td>0.124026</td>\n",
       "      <td>0.057190</td>\n",
       "      <td>0.126169</td>\n",
       "    </tr>\n",
       "    <tr>\n",
       "      <th>Trang bị</th>\n",
       "      <td>0.091904</td>\n",
       "      <td>0.203593</td>\n",
       "      <td>0.160994</td>\n",
       "      <td>0.099220</td>\n",
       "      <td>0.073529</td>\n",
       "      <td>0.125848</td>\n",
       "    </tr>\n",
       "    <tr>\n",
       "      <th>Điều kiện</th>\n",
       "      <td>0.065646</td>\n",
       "      <td>0.269461</td>\n",
       "      <td>0.231831</td>\n",
       "      <td>0.138909</td>\n",
       "      <td>0.102941</td>\n",
       "      <td>0.161757</td>\n",
       "    </tr>\n",
       "  </tbody>\n",
       "</table>\n",
       "</div>"
      ],
      "text/plain": [
       "            Thời gian  Môi trường  Cấp thiết  Trang bị  Điều kiện   Citeria\n",
       "Thời gian    0.459519    0.239521   0.386385  0.496102   0.720588  0.460423\n",
       "Môi trường   0.229759    0.119760   0.091996  0.141743   0.045752  0.125802\n",
       "cấp thiết    0.153173    0.167665   0.128795  0.124026   0.057190  0.126169\n",
       "Trang bị     0.091904    0.203593   0.160994  0.099220   0.073529  0.125848\n",
       "Điều kiện    0.065646    0.269461   0.231831  0.138909   0.102941  0.161757"
      ]
     },
     "execution_count": 12,
     "metadata": {},
     "output_type": "execute_result"
    }
   ],
   "source": [
    "data_tab2_ci "
   ]
  },
  {
   "cell_type": "code",
   "execution_count": 13,
   "id": "61feea97",
   "metadata": {},
   "outputs": [],
   "source": [
    "data_time = []\n",
    "for x in data[\"Thời gian\"]:\n",
    "    data_time.append(x*data_tab2_ci[\"Citeria\"][0])\n",
    "\n",
    "data_env = []\n",
    "for x in data[\"Môi trường\"]:\n",
    "    data_env.append(x*data_tab2_ci[\"Citeria\"][1])\n",
    "    \n",
    "data_ess = []\n",
    "for x in data[\"Cấp thiết\"]:\n",
    "    data_ess.append(x*data_tab2_ci[\"Citeria\"][2])\n",
    "    \n",
    "data_eq = []\n",
    "for x in data[\"Trang bị\"]:\n",
    "    data_eq.append(x*data_tab2_ci[\"Citeria\"][3])\n",
    "    \n",
    "data_con = []\n",
    "for x in data[\"Điều kiện\"]:\n",
    "    data_con.append(x*data_tab2_ci[\"Citeria\"][4])"
   ]
  },
  {
   "cell_type": "code",
   "execution_count": 14,
   "id": "30e148ba",
   "metadata": {},
   "outputs": [
    {
     "data": {
      "text/html": [
       "<div>\n",
       "<style scoped>\n",
       "    .dataframe tbody tr th:only-of-type {\n",
       "        vertical-align: middle;\n",
       "    }\n",
       "\n",
       "    .dataframe tbody tr th {\n",
       "        vertical-align: top;\n",
       "    }\n",
       "\n",
       "    .dataframe thead th {\n",
       "        text-align: right;\n",
       "    }\n",
       "</style>\n",
       "<table border=\"1\" class=\"dataframe\">\n",
       "  <thead>\n",
       "    <tr style=\"text-align: right;\">\n",
       "      <th></th>\n",
       "      <th>Thời gian</th>\n",
       "      <th>Môi trường</th>\n",
       "      <th>Cấp thiết</th>\n",
       "      <th>Trang bị</th>\n",
       "      <th>Điều kiện</th>\n",
       "    </tr>\n",
       "  </thead>\n",
       "  <tbody>\n",
       "    <tr>\n",
       "      <th>Thời gian</th>\n",
       "      <td>0.459519</td>\n",
       "      <td>0.239521</td>\n",
       "      <td>0.386385</td>\n",
       "      <td>0.496102</td>\n",
       "      <td>0.720588</td>\n",
       "    </tr>\n",
       "    <tr>\n",
       "      <th>Môi trường</th>\n",
       "      <td>0.229759</td>\n",
       "      <td>0.119760</td>\n",
       "      <td>0.091996</td>\n",
       "      <td>0.141743</td>\n",
       "      <td>0.045752</td>\n",
       "    </tr>\n",
       "    <tr>\n",
       "      <th>cấp thiết</th>\n",
       "      <td>0.153173</td>\n",
       "      <td>0.167665</td>\n",
       "      <td>0.128795</td>\n",
       "      <td>0.124026</td>\n",
       "      <td>0.057190</td>\n",
       "    </tr>\n",
       "    <tr>\n",
       "      <th>Trang bị</th>\n",
       "      <td>0.091904</td>\n",
       "      <td>0.203593</td>\n",
       "      <td>0.160994</td>\n",
       "      <td>0.099220</td>\n",
       "      <td>0.073529</td>\n",
       "    </tr>\n",
       "    <tr>\n",
       "      <th>Điều kiện</th>\n",
       "      <td>0.065646</td>\n",
       "      <td>0.269461</td>\n",
       "      <td>0.231831</td>\n",
       "      <td>0.138909</td>\n",
       "      <td>0.102941</td>\n",
       "    </tr>\n",
       "  </tbody>\n",
       "</table>\n",
       "</div>"
      ],
      "text/plain": [
       "            Thời gian  Môi trường  Cấp thiết  Trang bị  Điều kiện\n",
       "Thời gian    0.459519    0.239521   0.386385  0.496102   0.720588\n",
       "Môi trường   0.229759    0.119760   0.091996  0.141743   0.045752\n",
       "cấp thiết    0.153173    0.167665   0.128795  0.124026   0.057190\n",
       "Trang bị     0.091904    0.203593   0.160994  0.099220   0.073529\n",
       "Điều kiện    0.065646    0.269461   0.231831  0.138909   0.102941"
      ]
     },
     "execution_count": 14,
     "metadata": {},
     "output_type": "execute_result"
    }
   ],
   "source": [
    "data_tabl3 = {\"Thời gian\":data_time,\n",
    "              \"Môi trường\":data_env , \n",
    "              \"Cấp thiết\": data_ess,\n",
    "              \"Trang bị\": data_eq , \n",
    "              \"Điều kiện\": data_con }\n",
    "\n",
    "data_tab3 = pd.DataFrame(data_tabl2,index = [\"Thời gian\", \"Môi trường\", \"cấp thiết\", \"Trang bị\", \"Điều kiện\"] )\n",
    "data_tab3"
   ]
  },
  {
   "cell_type": "code",
   "execution_count": 15,
   "id": "6a9c5122",
   "metadata": {},
   "outputs": [],
   "source": [
    "weight = []\n",
    "for i in range(len(data_tab3.columns)):\n",
    "    weight.append(data_tab2.iloc[i].sum())"
   ]
  },
  {
   "cell_type": "code",
   "execution_count": 16,
   "id": "5be39410",
   "metadata": {},
   "outputs": [
    {
     "data": {
      "text/html": [
       "<div>\n",
       "<style scoped>\n",
       "    .dataframe tbody tr th:only-of-type {\n",
       "        vertical-align: middle;\n",
       "    }\n",
       "\n",
       "    .dataframe tbody tr th {\n",
       "        vertical-align: top;\n",
       "    }\n",
       "\n",
       "    .dataframe thead th {\n",
       "        text-align: right;\n",
       "    }\n",
       "</style>\n",
       "<table border=\"1\" class=\"dataframe\">\n",
       "  <thead>\n",
       "    <tr style=\"text-align: right;\">\n",
       "      <th></th>\n",
       "      <th>Weight</th>\n",
       "    </tr>\n",
       "  </thead>\n",
       "  <tbody>\n",
       "    <tr>\n",
       "      <th>Thời gian</th>\n",
       "      <td>2.302114</td>\n",
       "    </tr>\n",
       "    <tr>\n",
       "      <th>Môi trường</th>\n",
       "      <td>0.629011</td>\n",
       "    </tr>\n",
       "    <tr>\n",
       "      <th>cấp thiết</th>\n",
       "      <td>0.630847</td>\n",
       "    </tr>\n",
       "    <tr>\n",
       "      <th>Trang bị</th>\n",
       "      <td>0.629240</td>\n",
       "    </tr>\n",
       "    <tr>\n",
       "      <th>Điều kiện</th>\n",
       "      <td>0.808787</td>\n",
       "    </tr>\n",
       "  </tbody>\n",
       "</table>\n",
       "</div>"
      ],
      "text/plain": [
       "              Weight\n",
       "Thời gian   2.302114\n",
       "Môi trường  0.629011\n",
       "cấp thiết   0.630847\n",
       "Trang bị    0.629240\n",
       "Điều kiện   0.808787"
      ]
     },
     "execution_count": 16,
     "metadata": {},
     "output_type": "execute_result"
    }
   ],
   "source": [
    "dict_weight = {\"Weight\": weight}\n",
    "\n",
    "data_weight = pd.DataFrame(dict_weight, index = [\"Thời gian\", \"Môi trường\", \"cấp thiết\", \"Trang bị\", \"Điều kiện\"])\n",
    "data_weight"
   ]
  },
  {
   "cell_type": "code",
   "execution_count": 17,
   "id": "20a20096",
   "metadata": {},
   "outputs": [],
   "source": [
    "Consistent = np.divide(data_weight[\"Weight\"], data_tab2_ci[\"Citeria\"] )"
   ]
  },
  {
   "cell_type": "code",
   "execution_count": 18,
   "id": "012cdd7d",
   "metadata": {},
   "outputs": [
    {
     "name": "stdout",
     "output_type": "stream",
     "text": [
      "Thời gian     5.0\n",
      "Môi trường    5.0\n",
      "cấp thiết     5.0\n",
      "Trang bị      5.0\n",
      "Điều kiện     5.0\n",
      "dtype: float64\n"
     ]
    }
   ],
   "source": [
    "print(Consistent)"
   ]
  },
  {
   "cell_type": "code",
   "execution_count": 19,
   "id": "49e49f4b",
   "metadata": {},
   "outputs": [
    {
     "data": {
      "text/html": [
       "<div>\n",
       "<style scoped>\n",
       "    .dataframe tbody tr th:only-of-type {\n",
       "        vertical-align: middle;\n",
       "    }\n",
       "\n",
       "    .dataframe tbody tr th {\n",
       "        vertical-align: top;\n",
       "    }\n",
       "\n",
       "    .dataframe thead th {\n",
       "        text-align: right;\n",
       "    }\n",
       "</style>\n",
       "<table border=\"1\" class=\"dataframe\">\n",
       "  <thead>\n",
       "    <tr style=\"text-align: right;\">\n",
       "      <th></th>\n",
       "      <th>Consistent</th>\n",
       "    </tr>\n",
       "  </thead>\n",
       "  <tbody>\n",
       "    <tr>\n",
       "      <th>Thời gian</th>\n",
       "      <td>5.0</td>\n",
       "    </tr>\n",
       "    <tr>\n",
       "      <th>Môi trường</th>\n",
       "      <td>5.0</td>\n",
       "    </tr>\n",
       "    <tr>\n",
       "      <th>cấp thiết</th>\n",
       "      <td>5.0</td>\n",
       "    </tr>\n",
       "    <tr>\n",
       "      <th>Trang bị</th>\n",
       "      <td>5.0</td>\n",
       "    </tr>\n",
       "    <tr>\n",
       "      <th>Điều kiện</th>\n",
       "      <td>5.0</td>\n",
       "    </tr>\n",
       "  </tbody>\n",
       "</table>\n",
       "</div>"
      ],
      "text/plain": [
       "            Consistent\n",
       "Thời gian          5.0\n",
       "Môi trường         5.0\n",
       "cấp thiết          5.0\n",
       "Trang bị           5.0\n",
       "Điều kiện          5.0"
      ]
     },
     "execution_count": 19,
     "metadata": {},
     "output_type": "execute_result"
    }
   ],
   "source": [
    "dict_consis = {\"Consistent\": Consistent}\n",
    "data_consis = pd.DataFrame(dict_consis, index = [\"Thời gian\", \"Môi trường\", \"cấp thiết\", \"Trang bị\", \"Điều kiện\"])\n",
    "data_consis"
   ]
  },
  {
   "cell_type": "code",
   "execution_count": 20,
   "id": "863870db",
   "metadata": {},
   "outputs": [],
   "source": [
    "data_tab4 = pd.concat([data_tab2_ci, data_weight, data_consis], axis= 1)"
   ]
  },
  {
   "cell_type": "code",
   "execution_count": 21,
   "id": "3b1524c1",
   "metadata": {},
   "outputs": [
    {
     "data": {
      "text/html": [
       "<div>\n",
       "<style scoped>\n",
       "    .dataframe tbody tr th:only-of-type {\n",
       "        vertical-align: middle;\n",
       "    }\n",
       "\n",
       "    .dataframe tbody tr th {\n",
       "        vertical-align: top;\n",
       "    }\n",
       "\n",
       "    .dataframe thead th {\n",
       "        text-align: right;\n",
       "    }\n",
       "</style>\n",
       "<table border=\"1\" class=\"dataframe\">\n",
       "  <thead>\n",
       "    <tr style=\"text-align: right;\">\n",
       "      <th></th>\n",
       "      <th>Thời gian</th>\n",
       "      <th>Môi trường</th>\n",
       "      <th>Cấp thiết</th>\n",
       "      <th>Trang bị</th>\n",
       "      <th>Điều kiện</th>\n",
       "      <th>Citeria</th>\n",
       "      <th>Weight</th>\n",
       "      <th>Consistent</th>\n",
       "    </tr>\n",
       "  </thead>\n",
       "  <tbody>\n",
       "    <tr>\n",
       "      <th>Thời gian</th>\n",
       "      <td>0.459519</td>\n",
       "      <td>0.239521</td>\n",
       "      <td>0.386385</td>\n",
       "      <td>0.496102</td>\n",
       "      <td>0.720588</td>\n",
       "      <td>0.460423</td>\n",
       "      <td>2.302114</td>\n",
       "      <td>5.0</td>\n",
       "    </tr>\n",
       "    <tr>\n",
       "      <th>Môi trường</th>\n",
       "      <td>0.229759</td>\n",
       "      <td>0.119760</td>\n",
       "      <td>0.091996</td>\n",
       "      <td>0.141743</td>\n",
       "      <td>0.045752</td>\n",
       "      <td>0.125802</td>\n",
       "      <td>0.629011</td>\n",
       "      <td>5.0</td>\n",
       "    </tr>\n",
       "    <tr>\n",
       "      <th>cấp thiết</th>\n",
       "      <td>0.153173</td>\n",
       "      <td>0.167665</td>\n",
       "      <td>0.128795</td>\n",
       "      <td>0.124026</td>\n",
       "      <td>0.057190</td>\n",
       "      <td>0.126169</td>\n",
       "      <td>0.630847</td>\n",
       "      <td>5.0</td>\n",
       "    </tr>\n",
       "    <tr>\n",
       "      <th>Trang bị</th>\n",
       "      <td>0.091904</td>\n",
       "      <td>0.203593</td>\n",
       "      <td>0.160994</td>\n",
       "      <td>0.099220</td>\n",
       "      <td>0.073529</td>\n",
       "      <td>0.125848</td>\n",
       "      <td>0.629240</td>\n",
       "      <td>5.0</td>\n",
       "    </tr>\n",
       "    <tr>\n",
       "      <th>Điều kiện</th>\n",
       "      <td>0.065646</td>\n",
       "      <td>0.269461</td>\n",
       "      <td>0.231831</td>\n",
       "      <td>0.138909</td>\n",
       "      <td>0.102941</td>\n",
       "      <td>0.161757</td>\n",
       "      <td>0.808787</td>\n",
       "      <td>5.0</td>\n",
       "    </tr>\n",
       "  </tbody>\n",
       "</table>\n",
       "</div>"
      ],
      "text/plain": [
       "            Thời gian  Môi trường  Cấp thiết  Trang bị  Điều kiện   Citeria  \\\n",
       "Thời gian    0.459519    0.239521   0.386385  0.496102   0.720588  0.460423   \n",
       "Môi trường   0.229759    0.119760   0.091996  0.141743   0.045752  0.125802   \n",
       "cấp thiết    0.153173    0.167665   0.128795  0.124026   0.057190  0.126169   \n",
       "Trang bị     0.091904    0.203593   0.160994  0.099220   0.073529  0.125848   \n",
       "Điều kiện    0.065646    0.269461   0.231831  0.138909   0.102941  0.161757   \n",
       "\n",
       "              Weight  Consistent  \n",
       "Thời gian   2.302114         5.0  \n",
       "Môi trường  0.629011         5.0  \n",
       "cấp thiết   0.630847         5.0  \n",
       "Trang bị    0.629240         5.0  \n",
       "Điều kiện   0.808787         5.0  "
      ]
     },
     "execution_count": 21,
     "metadata": {},
     "output_type": "execute_result"
    }
   ],
   "source": [
    "data_tab4"
   ]
  },
  {
   "cell_type": "code",
   "execution_count": 22,
   "id": "1374eb48",
   "metadata": {},
   "outputs": [
    {
     "data": {
      "text/html": [
       "<div>\n",
       "<style scoped>\n",
       "    .dataframe tbody tr th:only-of-type {\n",
       "        vertical-align: middle;\n",
       "    }\n",
       "\n",
       "    .dataframe tbody tr th {\n",
       "        vertical-align: top;\n",
       "    }\n",
       "\n",
       "    .dataframe thead th {\n",
       "        text-align: right;\n",
       "    }\n",
       "</style>\n",
       "<table border=\"1\" class=\"dataframe\">\n",
       "  <thead>\n",
       "    <tr style=\"text-align: right;\">\n",
       "      <th></th>\n",
       "      <th>1</th>\n",
       "      <th>2</th>\n",
       "      <th>3</th>\n",
       "      <th>4</th>\n",
       "      <th>5</th>\n",
       "      <th>6</th>\n",
       "      <th>7</th>\n",
       "      <th>8</th>\n",
       "      <th>9</th>\n",
       "      <th>10</th>\n",
       "      <th>11</th>\n",
       "      <th>12</th>\n",
       "      <th>13</th>\n",
       "      <th>14</th>\n",
       "      <th>15</th>\n",
       "    </tr>\n",
       "  </thead>\n",
       "  <tbody>\n",
       "    <tr>\n",
       "      <th>Random_index</th>\n",
       "      <td>0.0</td>\n",
       "      <td>0.0</td>\n",
       "      <td>0.58</td>\n",
       "      <td>0.9</td>\n",
       "      <td>1.12</td>\n",
       "      <td>1.24</td>\n",
       "      <td>1.32</td>\n",
       "      <td>1.41</td>\n",
       "      <td>1.45</td>\n",
       "      <td>1.49</td>\n",
       "      <td>1.51</td>\n",
       "      <td>1.54</td>\n",
       "      <td>1.56</td>\n",
       "      <td>1.57</td>\n",
       "      <td>1.59</td>\n",
       "    </tr>\n",
       "  </tbody>\n",
       "</table>\n",
       "</div>"
      ],
      "text/plain": [
       "                1    2     3    4     5     6     7     8     9    10    11  \\\n",
       "Random_index  0.0  0.0  0.58  0.9  1.12  1.24  1.32  1.41  1.45  1.49  1.51   \n",
       "\n",
       "                12    13    14    15  \n",
       "Random_index  1.54  1.56  1.57  1.59  "
      ]
     },
     "execution_count": 22,
     "metadata": {},
     "output_type": "execute_result"
    }
   ],
   "source": [
    "idx = {\n",
    "    '1': [0.00] ,'2': [0.00],\n",
    "       '3':[0.58],'4':[0.90],\n",
    "       '5':[1.12],'6':[1.24],\n",
    "       '7':[1.32],'8':[1.41],\n",
    "       '9': [1.45],'10':[1.49],\n",
    "       '11':[1.51],'12':[1.54],\n",
    "       '13':[1.56],'14':[1.57],\n",
    "       '15':[1.59]\n",
    "      }\n",
    "random_index = pd.DataFrame(idx, index=['Random_index'])\n",
    "random_index"
   ]
  },
  {
   "cell_type": "code",
   "execution_count": 23,
   "id": "b5f0fa4f",
   "metadata": {},
   "outputs": [],
   "source": [
    "Lamda_max= data_tab4.Consistent.mean()\n",
    "Criteria = 5.00\n",
    "Random_idx = random_index['5']\n",
    "Consistency_idx = (Lamda_max-Criteria)/(Criteria-1)"
   ]
  },
  {
   "cell_type": "code",
   "execution_count": 24,
   "id": "cab2921b",
   "metadata": {},
   "outputs": [
    {
     "name": "stdout",
     "output_type": "stream",
     "text": [
      "0.0\n"
     ]
    }
   ],
   "source": [
    "print(Consistency_idx)"
   ]
  },
  {
   "cell_type": "code",
   "execution_count": 25,
   "id": "3f6c3572",
   "metadata": {},
   "outputs": [
    {
     "name": "stdout",
     "output_type": "stream",
     "text": [
      "Random_index    0.0\n",
      "Name: 5, dtype: float64\n"
     ]
    }
   ],
   "source": [
    "Consistency_ratio = np.divide(Consistency_idx, Random_idx)\n",
    "print(Consistency_ratio)"
   ]
  },
  {
   "cell_type": "code",
   "execution_count": 26,
   "id": "fca3ff6e",
   "metadata": {},
   "outputs": [
    {
     "name": "stdout",
     "output_type": "stream",
     "text": [
      "GOOD\n"
     ]
    }
   ],
   "source": [
    "if Consistency_ratio.gt(0.1).any():\n",
    "    print(\"BAD\")\n",
    "else:\n",
    "    print(\"GOOD\")"
   ]
  },
  {
   "cell_type": "code",
   "execution_count": 27,
   "id": "b41ec443",
   "metadata": {},
   "outputs": [],
   "source": [
    "def calculate_PA(df, PA_sum):\n",
    "    re = []\n",
    "    for x in df:\n",
    "        re.append(x/PA_sum)\n",
    "    return re\n",
    "        "
   ]
  },
  {
   "cell_type": "code",
   "execution_count": 28,
   "id": "ac0482d2",
   "metadata": {},
   "outputs": [],
   "source": [
    "def cal_avg(df):\n",
    "    result = []\n",
    "    for i in range(len(df.columns)):\n",
    "        result.append(df.iloc[i].mean())\n",
    "    return result"
   ]
  },
  {
   "cell_type": "code",
   "execution_count": 29,
   "id": "62f6e0da",
   "metadata": {},
   "outputs": [],
   "source": [
    "def tinh_trong_so(df, trong_so):\n",
    "    result = []\n",
    "    for i in df:\n",
    "        result.append(i * trong_so)\n",
    "    return result "
   ]
  },
  {
   "cell_type": "code",
   "execution_count": 30,
   "id": "59b6bd36",
   "metadata": {},
   "outputs": [],
   "source": [
    "#Với 10,30,60 Với bảng thời gian\n",
    "dict_time = {'PA1':[10/10, 30/(10+2), 60/(10-2)]}\n",
    "\n",
    "dict_time_1 ={'PA2':[1/dict_time['PA1'][1], 30/30, 60/(30-2)]}\n",
    "\n",
    "dict_time_2 = {'PA3': [1/dict_time['PA1'][2], 1/dict_time_1['PA2'][2], 60/60 ]}\n"
   ]
  },
  {
   "cell_type": "code",
   "execution_count": 31,
   "id": "4ab259ba",
   "metadata": {},
   "outputs": [],
   "source": [
    "df_time = pd.DataFrame(dict_time,index=['PA1', 'PA2','PA3'])\n",
    "\n",
    "df_time_1 = pd.DataFrame(dict_time_1,index=['PA1', 'PA2','PA3'])\n",
    "\n",
    "df_time_2 = pd.DataFrame(dict_time_2,index=['PA1', 'PA2','PA3'])\n",
    "\n"
   ]
  },
  {
   "cell_type": "code",
   "execution_count": 32,
   "id": "e10f01a5",
   "metadata": {},
   "outputs": [],
   "source": [
    "df_ = pd.concat([df_time, df_time_1, df_time_2], axis=1)"
   ]
  },
  {
   "cell_type": "code",
   "execution_count": 33,
   "id": "dec5cc64",
   "metadata": {},
   "outputs": [
    {
     "data": {
      "text/html": [
       "<div>\n",
       "<style scoped>\n",
       "    .dataframe tbody tr th:only-of-type {\n",
       "        vertical-align: middle;\n",
       "    }\n",
       "\n",
       "    .dataframe tbody tr th {\n",
       "        vertical-align: top;\n",
       "    }\n",
       "\n",
       "    .dataframe thead th {\n",
       "        text-align: right;\n",
       "    }\n",
       "</style>\n",
       "<table border=\"1\" class=\"dataframe\">\n",
       "  <thead>\n",
       "    <tr style=\"text-align: right;\">\n",
       "      <th></th>\n",
       "      <th>PA1</th>\n",
       "      <th>PA2</th>\n",
       "      <th>PA3</th>\n",
       "    </tr>\n",
       "  </thead>\n",
       "  <tbody>\n",
       "    <tr>\n",
       "      <th>PA1</th>\n",
       "      <td>1.0</td>\n",
       "      <td>0.400000</td>\n",
       "      <td>0.133333</td>\n",
       "    </tr>\n",
       "    <tr>\n",
       "      <th>PA2</th>\n",
       "      <td>2.5</td>\n",
       "      <td>1.000000</td>\n",
       "      <td>0.466667</td>\n",
       "    </tr>\n",
       "    <tr>\n",
       "      <th>PA3</th>\n",
       "      <td>7.5</td>\n",
       "      <td>2.142857</td>\n",
       "      <td>1.000000</td>\n",
       "    </tr>\n",
       "  </tbody>\n",
       "</table>\n",
       "</div>"
      ],
      "text/plain": [
       "     PA1       PA2       PA3\n",
       "PA1  1.0  0.400000  0.133333\n",
       "PA2  2.5  1.000000  0.466667\n",
       "PA3  7.5  2.142857  1.000000"
      ]
     },
     "execution_count": 33,
     "metadata": {},
     "output_type": "execute_result"
    }
   ],
   "source": [
    "df_"
   ]
  },
  {
   "cell_type": "code",
   "execution_count": 34,
   "id": "7ba9640b",
   "metadata": {},
   "outputs": [
    {
     "name": "stdout",
     "output_type": "stream",
     "text": [
      "11.0\n",
      "3.5429\n",
      "1.6\n"
     ]
    }
   ],
   "source": [
    "sum_pa1 = df_['PA1'].sum()\n",
    "sum_pa2 = df_['PA2'].sum()\n",
    "sum_pa3 = df_['PA3'].sum()\n",
    "print(sum_pa1)\n",
    "print(round(sum_pa2,4))\n",
    "print(sum_pa3)"
   ]
  },
  {
   "cell_type": "code",
   "execution_count": 35,
   "id": "3eb16405",
   "metadata": {},
   "outputs": [
    {
     "data": {
      "text/html": [
       "<div>\n",
       "<style scoped>\n",
       "    .dataframe tbody tr th:only-of-type {\n",
       "        vertical-align: middle;\n",
       "    }\n",
       "\n",
       "    .dataframe tbody tr th {\n",
       "        vertical-align: top;\n",
       "    }\n",
       "\n",
       "    .dataframe thead th {\n",
       "        text-align: right;\n",
       "    }\n",
       "</style>\n",
       "<table border=\"1\" class=\"dataframe\">\n",
       "  <thead>\n",
       "    <tr style=\"text-align: right;\">\n",
       "      <th></th>\n",
       "      <th>PA1</th>\n",
       "      <th>PA2</th>\n",
       "      <th>PA3</th>\n",
       "      <th>Trọng số</th>\n",
       "    </tr>\n",
       "  </thead>\n",
       "  <tbody>\n",
       "    <tr>\n",
       "      <th>0</th>\n",
       "      <td>0.090909</td>\n",
       "      <td>0.112903</td>\n",
       "      <td>0.083333</td>\n",
       "      <td>0.095715</td>\n",
       "    </tr>\n",
       "    <tr>\n",
       "      <th>1</th>\n",
       "      <td>0.227273</td>\n",
       "      <td>0.282258</td>\n",
       "      <td>0.291667</td>\n",
       "      <td>0.267066</td>\n",
       "    </tr>\n",
       "    <tr>\n",
       "      <th>2</th>\n",
       "      <td>0.681818</td>\n",
       "      <td>0.604839</td>\n",
       "      <td>0.625000</td>\n",
       "      <td>0.637219</td>\n",
       "    </tr>\n",
       "  </tbody>\n",
       "</table>\n",
       "</div>"
      ],
      "text/plain": [
       "        PA1       PA2       PA3  Trọng số\n",
       "0  0.090909  0.112903  0.083333  0.095715\n",
       "1  0.227273  0.282258  0.291667  0.267066\n",
       "2  0.681818  0.604839  0.625000  0.637219"
      ]
     },
     "execution_count": 35,
     "metadata": {},
     "output_type": "execute_result"
    }
   ],
   "source": [
    "dict_pa_time = {\n",
    "    \"PA1\": calculate_PA(df_[\"PA1\"], sum_pa1),\n",
    "    \"PA2\": calculate_PA(df_[\"PA2\"], sum_pa2),\n",
    "    \"PA3\": calculate_PA(df_[\"PA3\"], sum_pa3), \n",
    "}\n",
    "\n",
    "pa_time = pd.DataFrame(dict_pa_time)\n",
    "trong_so = pd.DataFrame({\"Trọng số\":cal_avg(pa_time)})\n",
    "pa_time = pd.concat([pa_time, trong_so], axis=1)\n",
    "pa_time"
   ]
  },
  {
   "cell_type": "code",
   "execution_count": 36,
   "id": "6dfddf6c",
   "metadata": {},
   "outputs": [],
   "source": [
    "# voi 25, 35, 50 voi bang moi truong\n",
    "dict_env = {'PA1':[25/25, 35/(25+2), 50/(25-2)]}\n",
    "\n",
    "dict_env_1 ={'PA2':[1/dict_env['PA1'][1], 35/35, 50/(35-2)]}\n",
    "\n",
    "dict_env_2 = {'PA3': [1/dict_env['PA1'][2], 1/dict_env_1['PA2'][2], 50/50 ]}"
   ]
  },
  {
   "cell_type": "code",
   "execution_count": 37,
   "id": "4ef669f2",
   "metadata": {},
   "outputs": [],
   "source": [
    "df_env = pd.DataFrame(dict_env,index=['PA1', 'PA2','PA3'])\n",
    "df_env_1 = pd.DataFrame(dict_env_1,index=['PA1', 'PA2','PA3'])\n",
    "df_env_2 = pd.DataFrame(dict_env_2,index=['PA1', 'PA2','PA3'])"
   ]
  },
  {
   "cell_type": "code",
   "execution_count": 38,
   "id": "26f4e4e1",
   "metadata": {},
   "outputs": [
    {
     "data": {
      "text/html": [
       "<div>\n",
       "<style scoped>\n",
       "    .dataframe tbody tr th:only-of-type {\n",
       "        vertical-align: middle;\n",
       "    }\n",
       "\n",
       "    .dataframe tbody tr th {\n",
       "        vertical-align: top;\n",
       "    }\n",
       "\n",
       "    .dataframe thead th {\n",
       "        text-align: right;\n",
       "    }\n",
       "</style>\n",
       "<table border=\"1\" class=\"dataframe\">\n",
       "  <thead>\n",
       "    <tr style=\"text-align: right;\">\n",
       "      <th></th>\n",
       "      <th>PA1</th>\n",
       "      <th>PA2</th>\n",
       "      <th>PA3</th>\n",
       "    </tr>\n",
       "  </thead>\n",
       "  <tbody>\n",
       "    <tr>\n",
       "      <th>PA1</th>\n",
       "      <td>1.000000</td>\n",
       "      <td>0.771429</td>\n",
       "      <td>0.46</td>\n",
       "    </tr>\n",
       "    <tr>\n",
       "      <th>PA2</th>\n",
       "      <td>1.296296</td>\n",
       "      <td>1.000000</td>\n",
       "      <td>0.66</td>\n",
       "    </tr>\n",
       "    <tr>\n",
       "      <th>PA3</th>\n",
       "      <td>2.173913</td>\n",
       "      <td>1.515152</td>\n",
       "      <td>1.00</td>\n",
       "    </tr>\n",
       "  </tbody>\n",
       "</table>\n",
       "</div>"
      ],
      "text/plain": [
       "          PA1       PA2   PA3\n",
       "PA1  1.000000  0.771429  0.46\n",
       "PA2  1.296296  1.000000  0.66\n",
       "PA3  2.173913  1.515152  1.00"
      ]
     },
     "execution_count": 38,
     "metadata": {},
     "output_type": "execute_result"
    }
   ],
   "source": [
    "df_env = pd.concat([df_env, df_env_1, df_env_2], axis=1)\n",
    "df_env"
   ]
  },
  {
   "cell_type": "code",
   "execution_count": 39,
   "id": "c638f103",
   "metadata": {},
   "outputs": [
    {
     "name": "stdout",
     "output_type": "stream",
     "text": [
      "4.4702093397745575\n",
      "3.2866\n",
      "2.12\n"
     ]
    }
   ],
   "source": [
    "sum_pa1_env = df_env['PA1'].sum()\n",
    "sum_pa2_env = df_env['PA2'].sum()\n",
    "sum_pa3_env = df_env['PA3'].sum()\n",
    "print(sum_pa1_env)\n",
    "print(round(sum_pa2_env,4))\n",
    "print(sum_pa3_env)"
   ]
  },
  {
   "cell_type": "code",
   "execution_count": 40,
   "id": "f70dd546",
   "metadata": {},
   "outputs": [
    {
     "data": {
      "text/html": [
       "<div>\n",
       "<style scoped>\n",
       "    .dataframe tbody tr th:only-of-type {\n",
       "        vertical-align: middle;\n",
       "    }\n",
       "\n",
       "    .dataframe tbody tr th {\n",
       "        vertical-align: top;\n",
       "    }\n",
       "\n",
       "    .dataframe thead th {\n",
       "        text-align: right;\n",
       "    }\n",
       "</style>\n",
       "<table border=\"1\" class=\"dataframe\">\n",
       "  <thead>\n",
       "    <tr style=\"text-align: right;\">\n",
       "      <th></th>\n",
       "      <th>PA1</th>\n",
       "      <th>PA2</th>\n",
       "      <th>PA3</th>\n",
       "      <th>Trọng số</th>\n",
       "    </tr>\n",
       "  </thead>\n",
       "  <tbody>\n",
       "    <tr>\n",
       "      <th>0</th>\n",
       "      <td>0.223703</td>\n",
       "      <td>0.234721</td>\n",
       "      <td>0.216981</td>\n",
       "      <td>0.225135</td>\n",
       "    </tr>\n",
       "    <tr>\n",
       "      <th>1</th>\n",
       "      <td>0.289986</td>\n",
       "      <td>0.304268</td>\n",
       "      <td>0.311321</td>\n",
       "      <td>0.301858</td>\n",
       "    </tr>\n",
       "    <tr>\n",
       "      <th>2</th>\n",
       "      <td>0.486311</td>\n",
       "      <td>0.461012</td>\n",
       "      <td>0.471698</td>\n",
       "      <td>0.473007</td>\n",
       "    </tr>\n",
       "  </tbody>\n",
       "</table>\n",
       "</div>"
      ],
      "text/plain": [
       "        PA1       PA2       PA3  Trọng số\n",
       "0  0.223703  0.234721  0.216981  0.225135\n",
       "1  0.289986  0.304268  0.311321  0.301858\n",
       "2  0.486311  0.461012  0.471698  0.473007"
      ]
     },
     "execution_count": 40,
     "metadata": {},
     "output_type": "execute_result"
    }
   ],
   "source": [
    "dict_pa_env = {\n",
    "    \"PA1\": calculate_PA(df_env[\"PA1\"], sum_pa1_env),\n",
    "    \"PA2\": calculate_PA(df_env[\"PA2\"], sum_pa2_env),\n",
    "    \"PA3\": calculate_PA(df_env[\"PA3\"], sum_pa3_env), \n",
    "}\n",
    "\n",
    "pa_env = pd.DataFrame(dict_pa_env)\n",
    "\n",
    "trong_so = pd.DataFrame({\"Trọng số\":cal_avg(pa_env)})\n",
    "\n",
    "pa_env = pd.concat([pa_env, trong_so], axis=1)\n",
    "pa_env"
   ]
  },
  {
   "cell_type": "code",
   "execution_count": 41,
   "id": "01c68b18",
   "metadata": {},
   "outputs": [],
   "source": [
    "#voi 62, 30, 16 cua bang cap thiet\n",
    "\n",
    "dict_ess = {'PA1':[62/62, 30/(62+2), 16/(62-2)]}\n",
    "\n",
    "dict_ess_1 ={'PA2':[1/dict_ess['PA1'][1], 30/30, 16/(30-2)]}\n",
    "\n",
    "dict_ess_2 = {'PA3': [1/dict_ess['PA1'][2], 1/dict_ess_1['PA2'][2], 16/16 ]}"
   ]
  },
  {
   "cell_type": "code",
   "execution_count": 42,
   "id": "3bddd00e",
   "metadata": {},
   "outputs": [],
   "source": [
    "df_ess = pd.DataFrame(dict_ess,index=['PA1', 'PA2','PA3'])\n",
    "df_ess_1 = pd.DataFrame(dict_ess_1,index=['PA1', 'PA2','PA3'])\n",
    "df_ess_2 = pd.DataFrame(dict_ess_2,index=['PA1', 'PA2','PA3'])"
   ]
  },
  {
   "cell_type": "code",
   "execution_count": 43,
   "id": "8ee45a38",
   "metadata": {},
   "outputs": [
    {
     "data": {
      "text/html": [
       "<div>\n",
       "<style scoped>\n",
       "    .dataframe tbody tr th:only-of-type {\n",
       "        vertical-align: middle;\n",
       "    }\n",
       "\n",
       "    .dataframe tbody tr th {\n",
       "        vertical-align: top;\n",
       "    }\n",
       "\n",
       "    .dataframe thead th {\n",
       "        text-align: right;\n",
       "    }\n",
       "</style>\n",
       "<table border=\"1\" class=\"dataframe\">\n",
       "  <thead>\n",
       "    <tr style=\"text-align: right;\">\n",
       "      <th></th>\n",
       "      <th>PA1</th>\n",
       "      <th>PA2</th>\n",
       "      <th>PA3</th>\n",
       "    </tr>\n",
       "  </thead>\n",
       "  <tbody>\n",
       "    <tr>\n",
       "      <th>PA1</th>\n",
       "      <td>1.000000</td>\n",
       "      <td>2.133333</td>\n",
       "      <td>3.75</td>\n",
       "    </tr>\n",
       "    <tr>\n",
       "      <th>PA2</th>\n",
       "      <td>0.468750</td>\n",
       "      <td>1.000000</td>\n",
       "      <td>1.75</td>\n",
       "    </tr>\n",
       "    <tr>\n",
       "      <th>PA3</th>\n",
       "      <td>0.266667</td>\n",
       "      <td>0.571429</td>\n",
       "      <td>1.00</td>\n",
       "    </tr>\n",
       "  </tbody>\n",
       "</table>\n",
       "</div>"
      ],
      "text/plain": [
       "          PA1       PA2   PA3\n",
       "PA1  1.000000  2.133333  3.75\n",
       "PA2  0.468750  1.000000  1.75\n",
       "PA3  0.266667  0.571429  1.00"
      ]
     },
     "execution_count": 43,
     "metadata": {},
     "output_type": "execute_result"
    }
   ],
   "source": [
    "df_ess = pd.concat([df_ess, df_ess_1, df_ess_2], axis=1)\n",
    "df_ess"
   ]
  },
  {
   "cell_type": "code",
   "execution_count": 44,
   "id": "6a3b85bf",
   "metadata": {},
   "outputs": [
    {
     "name": "stdout",
     "output_type": "stream",
     "text": [
      "1.7354166666666666\n",
      "3.7048\n",
      "6.5\n"
     ]
    }
   ],
   "source": [
    "sum_pa1_ess = df_ess['PA1'].sum()\n",
    "sum_pa2_ess = df_ess['PA2'].sum()\n",
    "sum_pa3_ess = df_ess['PA3'].sum()\n",
    "print(sum_pa1_ess)\n",
    "print(round(sum_pa2_ess,4))\n",
    "print(sum_pa3_ess)"
   ]
  },
  {
   "cell_type": "code",
   "execution_count": 45,
   "id": "566c803f",
   "metadata": {},
   "outputs": [
    {
     "data": {
      "text/html": [
       "<div>\n",
       "<style scoped>\n",
       "    .dataframe tbody tr th:only-of-type {\n",
       "        vertical-align: middle;\n",
       "    }\n",
       "\n",
       "    .dataframe tbody tr th {\n",
       "        vertical-align: top;\n",
       "    }\n",
       "\n",
       "    .dataframe thead th {\n",
       "        text-align: right;\n",
       "    }\n",
       "</style>\n",
       "<table border=\"1\" class=\"dataframe\">\n",
       "  <thead>\n",
       "    <tr style=\"text-align: right;\">\n",
       "      <th></th>\n",
       "      <th>PA1</th>\n",
       "      <th>PA2</th>\n",
       "      <th>PA3</th>\n",
       "      <th>Trọng số</th>\n",
       "    </tr>\n",
       "  </thead>\n",
       "  <tbody>\n",
       "    <tr>\n",
       "      <th>0</th>\n",
       "      <td>0.576230</td>\n",
       "      <td>0.575835</td>\n",
       "      <td>0.576923</td>\n",
       "      <td>0.576330</td>\n",
       "    </tr>\n",
       "    <tr>\n",
       "      <th>1</th>\n",
       "      <td>0.270108</td>\n",
       "      <td>0.269923</td>\n",
       "      <td>0.269231</td>\n",
       "      <td>0.269754</td>\n",
       "    </tr>\n",
       "    <tr>\n",
       "      <th>2</th>\n",
       "      <td>0.153661</td>\n",
       "      <td>0.154242</td>\n",
       "      <td>0.153846</td>\n",
       "      <td>0.153916</td>\n",
       "    </tr>\n",
       "  </tbody>\n",
       "</table>\n",
       "</div>"
      ],
      "text/plain": [
       "        PA1       PA2       PA3  Trọng số\n",
       "0  0.576230  0.575835  0.576923  0.576330\n",
       "1  0.270108  0.269923  0.269231  0.269754\n",
       "2  0.153661  0.154242  0.153846  0.153916"
      ]
     },
     "execution_count": 45,
     "metadata": {},
     "output_type": "execute_result"
    }
   ],
   "source": [
    "dict_pa_ess = {\n",
    "    \"PA1\": calculate_PA(df_ess[\"PA1\"], sum_pa1_ess),\n",
    "    \"PA2\": calculate_PA(df_ess[\"PA2\"], sum_pa2_ess),\n",
    "    \"PA3\": calculate_PA(df_ess[\"PA3\"], sum_pa3_ess), \n",
    "}\n",
    "\n",
    "pa_ess = pd.DataFrame(dict_pa_ess)\n",
    "trong_so = pd.DataFrame({\"Trọng số\":cal_avg(pa_ess)})\n",
    "pa_ess = pd.concat([pa_ess, trong_so], axis=1)\n",
    "pa_ess"
   ]
  },
  {
   "cell_type": "code",
   "execution_count": 46,
   "id": "d8393579",
   "metadata": {},
   "outputs": [],
   "source": [
    "#voi 56, 34, 20 bang trang bi\n",
    "dict_eq = {'PA1':[56/56, 34/(56+2), 20/(56-2)]}\n",
    "\n",
    "dict_eq_1 ={'PA2':[1/dict_eq['PA1'][1], 34/34, 20/(34-2)]}\n",
    "\n",
    "dict_eq_2 = {'PA3': [1/dict_eq['PA1'][2], 1/dict_eq_1['PA2'][2], 16/16 ]}"
   ]
  },
  {
   "cell_type": "code",
   "execution_count": 47,
   "id": "d8093b61",
   "metadata": {},
   "outputs": [],
   "source": [
    "df_eq = pd.DataFrame(dict_eq,index=['PA1', 'PA2','PA3'])\n",
    "df_eq_1 = pd.DataFrame(dict_eq_1,index=['PA1', 'PA2','PA3'])\n",
    "df_eq_2 = pd.DataFrame(dict_eq_2,index=['PA1', 'PA2','PA3'])"
   ]
  },
  {
   "cell_type": "code",
   "execution_count": 48,
   "id": "0c111969",
   "metadata": {},
   "outputs": [
    {
     "data": {
      "text/html": [
       "<div>\n",
       "<style scoped>\n",
       "    .dataframe tbody tr th:only-of-type {\n",
       "        vertical-align: middle;\n",
       "    }\n",
       "\n",
       "    .dataframe tbody tr th {\n",
       "        vertical-align: top;\n",
       "    }\n",
       "\n",
       "    .dataframe thead th {\n",
       "        text-align: right;\n",
       "    }\n",
       "</style>\n",
       "<table border=\"1\" class=\"dataframe\">\n",
       "  <thead>\n",
       "    <tr style=\"text-align: right;\">\n",
       "      <th></th>\n",
       "      <th>PA1</th>\n",
       "      <th>PA2</th>\n",
       "      <th>PA3</th>\n",
       "    </tr>\n",
       "  </thead>\n",
       "  <tbody>\n",
       "    <tr>\n",
       "      <th>PA1</th>\n",
       "      <td>1.000000</td>\n",
       "      <td>1.705882</td>\n",
       "      <td>2.7</td>\n",
       "    </tr>\n",
       "    <tr>\n",
       "      <th>PA2</th>\n",
       "      <td>0.586207</td>\n",
       "      <td>1.000000</td>\n",
       "      <td>1.6</td>\n",
       "    </tr>\n",
       "    <tr>\n",
       "      <th>PA3</th>\n",
       "      <td>0.370370</td>\n",
       "      <td>0.625000</td>\n",
       "      <td>1.0</td>\n",
       "    </tr>\n",
       "  </tbody>\n",
       "</table>\n",
       "</div>"
      ],
      "text/plain": [
       "          PA1       PA2  PA3\n",
       "PA1  1.000000  1.705882  2.7\n",
       "PA2  0.586207  1.000000  1.6\n",
       "PA3  0.370370  0.625000  1.0"
      ]
     },
     "execution_count": 48,
     "metadata": {},
     "output_type": "execute_result"
    }
   ],
   "source": [
    "df_eq= pd.concat([df_eq, df_eq_1, df_eq_2], axis=1)\n",
    "df_eq"
   ]
  },
  {
   "cell_type": "code",
   "execution_count": 49,
   "id": "a59a54b2",
   "metadata": {},
   "outputs": [
    {
     "name": "stdout",
     "output_type": "stream",
     "text": [
      "1.9565772669220944\n",
      "3.3309\n",
      "5.300000000000001\n"
     ]
    }
   ],
   "source": [
    "sum_pa1_eq = df_eq['PA1'].sum()\n",
    "sum_pa2_eq = df_eq['PA2'].sum()\n",
    "sum_pa3_eq = df_eq['PA3'].sum()\n",
    "print(sum_pa1_eq)\n",
    "print(round(sum_pa2_eq,4))\n",
    "print(sum_pa3_eq)"
   ]
  },
  {
   "cell_type": "code",
   "execution_count": 50,
   "id": "d2a276f5",
   "metadata": {},
   "outputs": [
    {
     "data": {
      "text/html": [
       "<div>\n",
       "<style scoped>\n",
       "    .dataframe tbody tr th:only-of-type {\n",
       "        vertical-align: middle;\n",
       "    }\n",
       "\n",
       "    .dataframe tbody tr th {\n",
       "        vertical-align: top;\n",
       "    }\n",
       "\n",
       "    .dataframe thead th {\n",
       "        text-align: right;\n",
       "    }\n",
       "</style>\n",
       "<table border=\"1\" class=\"dataframe\">\n",
       "  <thead>\n",
       "    <tr style=\"text-align: right;\">\n",
       "      <th></th>\n",
       "      <th>PA1</th>\n",
       "      <th>PA2</th>\n",
       "      <th>PA3</th>\n",
       "      <th>Trọng số</th>\n",
       "    </tr>\n",
       "  </thead>\n",
       "  <tbody>\n",
       "    <tr>\n",
       "      <th>0</th>\n",
       "      <td>0.511097</td>\n",
       "      <td>0.512141</td>\n",
       "      <td>0.509434</td>\n",
       "      <td>0.510891</td>\n",
       "    </tr>\n",
       "    <tr>\n",
       "      <th>1</th>\n",
       "      <td>0.299608</td>\n",
       "      <td>0.300221</td>\n",
       "      <td>0.301887</td>\n",
       "      <td>0.300572</td>\n",
       "    </tr>\n",
       "    <tr>\n",
       "      <th>2</th>\n",
       "      <td>0.189295</td>\n",
       "      <td>0.187638</td>\n",
       "      <td>0.188679</td>\n",
       "      <td>0.188537</td>\n",
       "    </tr>\n",
       "  </tbody>\n",
       "</table>\n",
       "</div>"
      ],
      "text/plain": [
       "        PA1       PA2       PA3  Trọng số\n",
       "0  0.511097  0.512141  0.509434  0.510891\n",
       "1  0.299608  0.300221  0.301887  0.300572\n",
       "2  0.189295  0.187638  0.188679  0.188537"
      ]
     },
     "execution_count": 50,
     "metadata": {},
     "output_type": "execute_result"
    }
   ],
   "source": [
    "dict_pa_eq = {\n",
    "    \"PA1\": calculate_PA(df_eq[\"PA1\"], sum_pa1_eq),\n",
    "    \"PA2\": calculate_PA(df_eq[\"PA2\"], sum_pa2_eq),\n",
    "    \"PA3\": calculate_PA(df_eq[\"PA3\"], sum_pa3_eq), \n",
    "}\n",
    "\n",
    "pa_eq = pd.DataFrame(dict_pa_eq)\n",
    "trong_so = pd.DataFrame({\"Trọng số\":cal_avg(pa_eq)})\n",
    "pa_eq = pd.concat([pa_eq, trong_so], axis=1)\n",
    "pa_eq"
   ]
  },
  {
   "cell_type": "code",
   "execution_count": 51,
   "id": "c4b40f55",
   "metadata": {},
   "outputs": [],
   "source": [
    "#Voi 58, 38, 24 bang dieu kien\n",
    "#voi 56, 34, 20 bang trang bi\n",
    "dict_con = {'PA1':[58/58, 38/(58+2), 24/(58-2)]}\n",
    "\n",
    "dict_con_1 ={'PA2':[1/dict_con['PA1'][1], 38/38, 24/(38-2)]}\n",
    "\n",
    "dict_con_2 = {'PA3': [1/dict_con['PA1'][2], 1/dict_con_1['PA2'][2], 24/24 ]}\n"
   ]
  },
  {
   "cell_type": "code",
   "execution_count": 52,
   "id": "34c5f631",
   "metadata": {},
   "outputs": [],
   "source": [
    "df_con = pd.DataFrame(dict_con,index=['PA1', 'PA2','PA3'])\n",
    "df_con_1 = pd.DataFrame(dict_con_1,index=['PA1', 'PA2','PA3'])\n",
    "df_con_2 = pd.DataFrame(dict_con_2,index=['PA1', 'PA2','PA3'])"
   ]
  },
  {
   "cell_type": "code",
   "execution_count": 53,
   "id": "6b150adf",
   "metadata": {},
   "outputs": [
    {
     "data": {
      "text/html": [
       "<div>\n",
       "<style scoped>\n",
       "    .dataframe tbody tr th:only-of-type {\n",
       "        vertical-align: middle;\n",
       "    }\n",
       "\n",
       "    .dataframe tbody tr th {\n",
       "        vertical-align: top;\n",
       "    }\n",
       "\n",
       "    .dataframe thead th {\n",
       "        text-align: right;\n",
       "    }\n",
       "</style>\n",
       "<table border=\"1\" class=\"dataframe\">\n",
       "  <thead>\n",
       "    <tr style=\"text-align: right;\">\n",
       "      <th></th>\n",
       "      <th>PA1</th>\n",
       "      <th>PA2</th>\n",
       "      <th>PA3</th>\n",
       "    </tr>\n",
       "  </thead>\n",
       "  <tbody>\n",
       "    <tr>\n",
       "      <th>PA1</th>\n",
       "      <td>1.000000</td>\n",
       "      <td>1.578947</td>\n",
       "      <td>2.333333</td>\n",
       "    </tr>\n",
       "    <tr>\n",
       "      <th>PA2</th>\n",
       "      <td>0.633333</td>\n",
       "      <td>1.000000</td>\n",
       "      <td>1.500000</td>\n",
       "    </tr>\n",
       "    <tr>\n",
       "      <th>PA3</th>\n",
       "      <td>0.428571</td>\n",
       "      <td>0.666667</td>\n",
       "      <td>1.000000</td>\n",
       "    </tr>\n",
       "  </tbody>\n",
       "</table>\n",
       "</div>"
      ],
      "text/plain": [
       "          PA1       PA2       PA3\n",
       "PA1  1.000000  1.578947  2.333333\n",
       "PA2  0.633333  1.000000  1.500000\n",
       "PA3  0.428571  0.666667  1.000000"
      ]
     },
     "execution_count": 53,
     "metadata": {},
     "output_type": "execute_result"
    }
   ],
   "source": [
    "df_con = pd.concat([df_con, df_con_1, df_con_2], axis=1)\n",
    "df_con"
   ]
  },
  {
   "cell_type": "code",
   "execution_count": 54,
   "id": "07f733fe",
   "metadata": {},
   "outputs": [
    {
     "name": "stdout",
     "output_type": "stream",
     "text": [
      "2.0619047619047617\n",
      "3.2456\n",
      "4.833333333333334\n"
     ]
    }
   ],
   "source": [
    "sum_pa1_con = df_con['PA1'].sum()\n",
    "sum_pa2_con = df_con['PA2'].sum()\n",
    "sum_pa3_con = df_con['PA3'].sum()\n",
    "print(sum_pa1_con)\n",
    "print(round(sum_pa2_con,4))\n",
    "print(sum_pa3_con)"
   ]
  },
  {
   "cell_type": "code",
   "execution_count": 55,
   "id": "77d09b01",
   "metadata": {},
   "outputs": [
    {
     "data": {
      "text/html": [
       "<div>\n",
       "<style scoped>\n",
       "    .dataframe tbody tr th:only-of-type {\n",
       "        vertical-align: middle;\n",
       "    }\n",
       "\n",
       "    .dataframe tbody tr th {\n",
       "        vertical-align: top;\n",
       "    }\n",
       "\n",
       "    .dataframe thead th {\n",
       "        text-align: right;\n",
       "    }\n",
       "</style>\n",
       "<table border=\"1\" class=\"dataframe\">\n",
       "  <thead>\n",
       "    <tr style=\"text-align: right;\">\n",
       "      <th></th>\n",
       "      <th>PA1</th>\n",
       "      <th>PA2</th>\n",
       "      <th>PA3</th>\n",
       "      <th>Trọng số</th>\n",
       "    </tr>\n",
       "  </thead>\n",
       "  <tbody>\n",
       "    <tr>\n",
       "      <th>0</th>\n",
       "      <td>0.484988</td>\n",
       "      <td>0.486486</td>\n",
       "      <td>0.482759</td>\n",
       "      <td>0.484745</td>\n",
       "    </tr>\n",
       "    <tr>\n",
       "      <th>1</th>\n",
       "      <td>0.307159</td>\n",
       "      <td>0.308108</td>\n",
       "      <td>0.310345</td>\n",
       "      <td>0.308537</td>\n",
       "    </tr>\n",
       "    <tr>\n",
       "      <th>2</th>\n",
       "      <td>0.207852</td>\n",
       "      <td>0.205405</td>\n",
       "      <td>0.206897</td>\n",
       "      <td>0.206718</td>\n",
       "    </tr>\n",
       "  </tbody>\n",
       "</table>\n",
       "</div>"
      ],
      "text/plain": [
       "        PA1       PA2       PA3  Trọng số\n",
       "0  0.484988  0.486486  0.482759  0.484745\n",
       "1  0.307159  0.308108  0.310345  0.308537\n",
       "2  0.207852  0.205405  0.206897  0.206718"
      ]
     },
     "execution_count": 55,
     "metadata": {},
     "output_type": "execute_result"
    }
   ],
   "source": [
    "dict_pa_con = {\n",
    "    \"PA1\": calculate_PA(df_con[\"PA1\"], sum_pa1_con),\n",
    "    \"PA2\": calculate_PA(df_con[\"PA2\"], sum_pa2_con),\n",
    "    \"PA3\": calculate_PA(df_con[\"PA3\"], sum_pa3_con), \n",
    "}\n",
    "\n",
    "pa_con = pd.DataFrame(dict_pa_con)\n",
    "trong_so = pd.DataFrame({\"Trọng số\":cal_avg(pa_con)})\n",
    "pa_con = pd.concat([pa_con, trong_so], axis=1)\n",
    "pa_con"
   ]
  },
  {
   "cell_type": "code",
   "execution_count": 56,
   "id": "abc3a920",
   "metadata": {},
   "outputs": [
    {
     "data": {
      "text/html": [
       "<div>\n",
       "<style scoped>\n",
       "    .dataframe tbody tr th:only-of-type {\n",
       "        vertical-align: middle;\n",
       "    }\n",
       "\n",
       "    .dataframe tbody tr th {\n",
       "        vertical-align: top;\n",
       "    }\n",
       "\n",
       "    .dataframe thead th {\n",
       "        text-align: right;\n",
       "    }\n",
       "</style>\n",
       "<table border=\"1\" class=\"dataframe\">\n",
       "  <thead>\n",
       "    <tr style=\"text-align: right;\">\n",
       "      <th></th>\n",
       "      <th>PA1</th>\n",
       "      <th>PA2</th>\n",
       "      <th>PA3</th>\n",
       "    </tr>\n",
       "  </thead>\n",
       "  <tbody>\n",
       "    <tr>\n",
       "      <th>PA1</th>\n",
       "      <td>0.095715</td>\n",
       "      <td>0.106826</td>\n",
       "      <td>0.084963</td>\n",
       "    </tr>\n",
       "    <tr>\n",
       "      <th>PA2</th>\n",
       "      <td>0.239288</td>\n",
       "      <td>0.267066</td>\n",
       "      <td>0.297369</td>\n",
       "    </tr>\n",
       "    <tr>\n",
       "      <th>PA3</th>\n",
       "      <td>0.717864</td>\n",
       "      <td>0.572284</td>\n",
       "      <td>0.637219</td>\n",
       "    </tr>\n",
       "  </tbody>\n",
       "</table>\n",
       "</div>"
      ],
      "text/plain": [
       "          PA1       PA2       PA3\n",
       "PA1  0.095715  0.106826  0.084963\n",
       "PA2  0.239288  0.267066  0.297369\n",
       "PA3  0.717864  0.572284  0.637219"
      ]
     },
     "execution_count": 56,
     "metadata": {},
     "output_type": "execute_result"
    }
   ],
   "source": [
    "df_multi_time = pd.DataFrame({\"PA1\": tinh_trong_so(df_['PA1'], pa_time[\"Trọng số\"][0]),\n",
    "                 \"PA2\": tinh_trong_so(df_['PA2'], pa_time[\"Trọng số\"][1]),\n",
    "                 \"PA3\": tinh_trong_so(df_['PA3'], pa_time[\"Trọng số\"][2])\n",
    "                }, index = ['PA1', 'PA2', 'PA3'])\n",
    "df_multi_time"
   ]
  },
  {
   "cell_type": "code",
   "execution_count": 57,
   "id": "a319b71c",
   "metadata": {},
   "outputs": [
    {
     "data": {
      "text/html": [
       "<div>\n",
       "<style scoped>\n",
       "    .dataframe tbody tr th:only-of-type {\n",
       "        vertical-align: middle;\n",
       "    }\n",
       "\n",
       "    .dataframe tbody tr th {\n",
       "        vertical-align: top;\n",
       "    }\n",
       "\n",
       "    .dataframe thead th {\n",
       "        text-align: right;\n",
       "    }\n",
       "</style>\n",
       "<table border=\"1\" class=\"dataframe\">\n",
       "  <thead>\n",
       "    <tr style=\"text-align: right;\">\n",
       "      <th></th>\n",
       "      <th>PA1</th>\n",
       "      <th>PA2</th>\n",
       "      <th>PA3</th>\n",
       "    </tr>\n",
       "  </thead>\n",
       "  <tbody>\n",
       "    <tr>\n",
       "      <th>PA1</th>\n",
       "      <td>0.225135</td>\n",
       "      <td>0.232862</td>\n",
       "      <td>0.217583</td>\n",
       "    </tr>\n",
       "    <tr>\n",
       "      <th>PA2</th>\n",
       "      <td>0.291842</td>\n",
       "      <td>0.301858</td>\n",
       "      <td>0.312185</td>\n",
       "    </tr>\n",
       "    <tr>\n",
       "      <th>PA3</th>\n",
       "      <td>0.489424</td>\n",
       "      <td>0.457361</td>\n",
       "      <td>0.473007</td>\n",
       "    </tr>\n",
       "  </tbody>\n",
       "</table>\n",
       "</div>"
      ],
      "text/plain": [
       "          PA1       PA2       PA3\n",
       "PA1  0.225135  0.232862  0.217583\n",
       "PA2  0.291842  0.301858  0.312185\n",
       "PA3  0.489424  0.457361  0.473007"
      ]
     },
     "execution_count": 57,
     "metadata": {},
     "output_type": "execute_result"
    }
   ],
   "source": [
    "df_multi_env = pd.DataFrame({\"PA1\": tinh_trong_so(df_env['PA1'], pa_env[\"Trọng số\"][0]),\n",
    "                 \"PA2\": tinh_trong_so(df_env['PA2'], pa_env[\"Trọng số\"][1]),\n",
    "                 \"PA3\": tinh_trong_so(df_env['PA3'], pa_env[\"Trọng số\"][2])\n",
    "                }, index = ['PA1', 'PA2', 'PA3'])\n",
    "df_multi_env"
   ]
  },
  {
   "cell_type": "code",
   "execution_count": 58,
   "id": "e6f83992",
   "metadata": {},
   "outputs": [
    {
     "data": {
      "text/html": [
       "<div>\n",
       "<style scoped>\n",
       "    .dataframe tbody tr th:only-of-type {\n",
       "        vertical-align: middle;\n",
       "    }\n",
       "\n",
       "    .dataframe tbody tr th {\n",
       "        vertical-align: top;\n",
       "    }\n",
       "\n",
       "    .dataframe thead th {\n",
       "        text-align: right;\n",
       "    }\n",
       "</style>\n",
       "<table border=\"1\" class=\"dataframe\">\n",
       "  <thead>\n",
       "    <tr style=\"text-align: right;\">\n",
       "      <th></th>\n",
       "      <th>PA1</th>\n",
       "      <th>PA2</th>\n",
       "      <th>PA3</th>\n",
       "    </tr>\n",
       "  </thead>\n",
       "  <tbody>\n",
       "    <tr>\n",
       "      <th>PA1</th>\n",
       "      <td>0.576330</td>\n",
       "      <td>0.575475</td>\n",
       "      <td>0.577187</td>\n",
       "    </tr>\n",
       "    <tr>\n",
       "      <th>PA2</th>\n",
       "      <td>0.270155</td>\n",
       "      <td>0.269754</td>\n",
       "      <td>0.269354</td>\n",
       "    </tr>\n",
       "    <tr>\n",
       "      <th>PA3</th>\n",
       "      <td>0.153688</td>\n",
       "      <td>0.154145</td>\n",
       "      <td>0.153916</td>\n",
       "    </tr>\n",
       "  </tbody>\n",
       "</table>\n",
       "</div>"
      ],
      "text/plain": [
       "          PA1       PA2       PA3\n",
       "PA1  0.576330  0.575475  0.577187\n",
       "PA2  0.270155  0.269754  0.269354\n",
       "PA3  0.153688  0.154145  0.153916"
      ]
     },
     "execution_count": 58,
     "metadata": {},
     "output_type": "execute_result"
    }
   ],
   "source": [
    "df_multi_ess= pd.DataFrame({\"PA1\": tinh_trong_so(df_ess['PA1'], pa_ess[\"Trọng số\"][0]),\n",
    "                 \"PA2\": tinh_trong_so(df_ess['PA2'], pa_ess[\"Trọng số\"][1]),\n",
    "                 \"PA3\": tinh_trong_so(df_ess['PA3'], pa_ess[\"Trọng số\"][2])\n",
    "                }, index = ['PA1', 'PA2', 'PA3'])\n",
    "df_multi_ess"
   ]
  },
  {
   "cell_type": "code",
   "execution_count": 59,
   "id": "5693c70c",
   "metadata": {},
   "outputs": [
    {
     "data": {
      "text/html": [
       "<div>\n",
       "<style scoped>\n",
       "    .dataframe tbody tr th:only-of-type {\n",
       "        vertical-align: middle;\n",
       "    }\n",
       "\n",
       "    .dataframe tbody tr th {\n",
       "        vertical-align: top;\n",
       "    }\n",
       "\n",
       "    .dataframe thead th {\n",
       "        text-align: right;\n",
       "    }\n",
       "</style>\n",
       "<table border=\"1\" class=\"dataframe\">\n",
       "  <thead>\n",
       "    <tr style=\"text-align: right;\">\n",
       "      <th></th>\n",
       "      <th>PA1</th>\n",
       "      <th>PA2</th>\n",
       "      <th>PA3</th>\n",
       "    </tr>\n",
       "  </thead>\n",
       "  <tbody>\n",
       "    <tr>\n",
       "      <th>PA1</th>\n",
       "      <td>0.510891</td>\n",
       "      <td>0.512740</td>\n",
       "      <td>0.509051</td>\n",
       "    </tr>\n",
       "    <tr>\n",
       "      <th>PA2</th>\n",
       "      <td>0.299488</td>\n",
       "      <td>0.300572</td>\n",
       "      <td>0.301660</td>\n",
       "    </tr>\n",
       "    <tr>\n",
       "      <th>PA3</th>\n",
       "      <td>0.189219</td>\n",
       "      <td>0.187857</td>\n",
       "      <td>0.188537</td>\n",
       "    </tr>\n",
       "  </tbody>\n",
       "</table>\n",
       "</div>"
      ],
      "text/plain": [
       "          PA1       PA2       PA3\n",
       "PA1  0.510891  0.512740  0.509051\n",
       "PA2  0.299488  0.300572  0.301660\n",
       "PA3  0.189219  0.187857  0.188537"
      ]
     },
     "execution_count": 59,
     "metadata": {},
     "output_type": "execute_result"
    }
   ],
   "source": [
    "df_multi_eq = pd.DataFrame({\"PA1\": tinh_trong_so(df_eq['PA1'], pa_eq[\"Trọng số\"][0]),\n",
    "                 \"PA2\": tinh_trong_so(df_eq['PA2'], pa_eq[\"Trọng số\"][1]),\n",
    "                 \"PA3\": tinh_trong_so(df_eq['PA3'], pa_eq[\"Trọng số\"][2])\n",
    "                }, index = ['PA1', 'PA2', 'PA3'])\n",
    "df_multi_eq"
   ]
  },
  {
   "cell_type": "code",
   "execution_count": 60,
   "id": "8137d56e",
   "metadata": {},
   "outputs": [
    {
     "data": {
      "text/html": [
       "<div>\n",
       "<style scoped>\n",
       "    .dataframe tbody tr th:only-of-type {\n",
       "        vertical-align: middle;\n",
       "    }\n",
       "\n",
       "    .dataframe tbody tr th {\n",
       "        vertical-align: top;\n",
       "    }\n",
       "\n",
       "    .dataframe thead th {\n",
       "        text-align: right;\n",
       "    }\n",
       "</style>\n",
       "<table border=\"1\" class=\"dataframe\">\n",
       "  <thead>\n",
       "    <tr style=\"text-align: right;\">\n",
       "      <th></th>\n",
       "      <th>PA1</th>\n",
       "      <th>PA2</th>\n",
       "      <th>PA3</th>\n",
       "    </tr>\n",
       "  </thead>\n",
       "  <tbody>\n",
       "    <tr>\n",
       "      <th>PA1</th>\n",
       "      <td>0.484745</td>\n",
       "      <td>0.487164</td>\n",
       "      <td>0.482342</td>\n",
       "    </tr>\n",
       "    <tr>\n",
       "      <th>PA2</th>\n",
       "      <td>0.307005</td>\n",
       "      <td>0.308537</td>\n",
       "      <td>0.310077</td>\n",
       "    </tr>\n",
       "    <tr>\n",
       "      <th>PA3</th>\n",
       "      <td>0.207748</td>\n",
       "      <td>0.205692</td>\n",
       "      <td>0.206718</td>\n",
       "    </tr>\n",
       "  </tbody>\n",
       "</table>\n",
       "</div>"
      ],
      "text/plain": [
       "          PA1       PA2       PA3\n",
       "PA1  0.484745  0.487164  0.482342\n",
       "PA2  0.307005  0.308537  0.310077\n",
       "PA3  0.207748  0.205692  0.206718"
      ]
     },
     "execution_count": 60,
     "metadata": {},
     "output_type": "execute_result"
    }
   ],
   "source": [
    "df_multi_con = pd.DataFrame({\"PA1\": tinh_trong_so(df_con['PA1'], pa_con[\"Trọng số\"][0]),\n",
    "                 \"PA2\": tinh_trong_so(df_con['PA2'], pa_con[\"Trọng số\"][1]),\n",
    "                 \"PA3\": tinh_trong_so(df_con['PA3'], pa_con[\"Trọng số\"][2])\n",
    "                }, index = ['PA1', 'PA2', 'PA3'])\n",
    "df_multi_con"
   ]
  },
  {
   "cell_type": "code",
   "execution_count": 61,
   "id": "27a9eece",
   "metadata": {},
   "outputs": [],
   "source": [
    "def sum_weight(df):\n",
    "    result = []\n",
    "    for i in range(len(df.columns)):\n",
    "        result.append(df.iloc[i].sum())\n",
    "    return result\n",
    "\n",
    "\n",
    "def consistency(sum_weight, pa):\n",
    "    return sum_weight/pa"
   ]
  },
  {
   "cell_type": "code",
   "execution_count": 62,
   "id": "e30abad7",
   "metadata": {},
   "outputs": [
    {
     "data": {
      "text/html": [
       "<div>\n",
       "<style scoped>\n",
       "    .dataframe tbody tr th:only-of-type {\n",
       "        vertical-align: middle;\n",
       "    }\n",
       "\n",
       "    .dataframe tbody tr th {\n",
       "        vertical-align: top;\n",
       "    }\n",
       "\n",
       "    .dataframe thead th {\n",
       "        text-align: right;\n",
       "    }\n",
       "</style>\n",
       "<table border=\"1\" class=\"dataframe\">\n",
       "  <thead>\n",
       "    <tr style=\"text-align: right;\">\n",
       "      <th></th>\n",
       "      <th>PA1</th>\n",
       "      <th>PA2</th>\n",
       "      <th>PA3</th>\n",
       "      <th>Trọng số</th>\n",
       "      <th>Sum weight</th>\n",
       "      <th>Consistency</th>\n",
       "    </tr>\n",
       "  </thead>\n",
       "  <tbody>\n",
       "    <tr>\n",
       "      <th>0</th>\n",
       "      <td>0.090909</td>\n",
       "      <td>0.112903</td>\n",
       "      <td>0.083333</td>\n",
       "      <td>0.095715</td>\n",
       "      <td>0.287504</td>\n",
       "      <td>3.003745</td>\n",
       "    </tr>\n",
       "    <tr>\n",
       "      <th>1</th>\n",
       "      <td>0.227273</td>\n",
       "      <td>0.282258</td>\n",
       "      <td>0.291667</td>\n",
       "      <td>0.267066</td>\n",
       "      <td>0.803723</td>\n",
       "      <td>3.009456</td>\n",
       "    </tr>\n",
       "    <tr>\n",
       "      <th>2</th>\n",
       "      <td>0.681818</td>\n",
       "      <td>0.604839</td>\n",
       "      <td>0.625000</td>\n",
       "      <td>0.637219</td>\n",
       "      <td>1.927367</td>\n",
       "      <td>3.024654</td>\n",
       "    </tr>\n",
       "  </tbody>\n",
       "</table>\n",
       "</div>"
      ],
      "text/plain": [
       "        PA1       PA2       PA3  Trọng số  Sum weight  Consistency\n",
       "0  0.090909  0.112903  0.083333  0.095715    0.287504     3.003745\n",
       "1  0.227273  0.282258  0.291667  0.267066    0.803723     3.009456\n",
       "2  0.681818  0.604839  0.625000  0.637219    1.927367     3.024654"
      ]
     },
     "execution_count": 62,
     "metadata": {},
     "output_type": "execute_result"
    }
   ],
   "source": [
    "df_weight_time = pd.DataFrame({\"Sum weight\" : sum_weight(df_multi_time)})\n",
    "#df_weight_time\n",
    "\n",
    "consitency_time = [consistency(df_weight_time['Sum weight'][0], pa_time[\"Trọng số\"][0]), \n",
    "               consistency(df_weight_time['Sum weight'][1],pa_time[\"Trọng số\"][1]),\n",
    "               consistency(df_weight_time['Sum weight'][2],pa_time[\"Trọng số\"][2])]\n",
    "\n",
    "df_consistency_time = pd.DataFrame({\"Consistency\": consitency_time})\n",
    "#df_consistency_time\n",
    "\n",
    "df_pa_time = pd.concat([pa_time,df_weight_time,df_consistency_time], axis=1, )\n",
    "df_pa_time"
   ]
  },
  {
   "cell_type": "code",
   "execution_count": 63,
   "id": "93461879",
   "metadata": {},
   "outputs": [
    {
     "data": {
      "text/html": [
       "<div>\n",
       "<style scoped>\n",
       "    .dataframe tbody tr th:only-of-type {\n",
       "        vertical-align: middle;\n",
       "    }\n",
       "\n",
       "    .dataframe tbody tr th {\n",
       "        vertical-align: top;\n",
       "    }\n",
       "\n",
       "    .dataframe thead th {\n",
       "        text-align: right;\n",
       "    }\n",
       "</style>\n",
       "<table border=\"1\" class=\"dataframe\">\n",
       "  <thead>\n",
       "    <tr style=\"text-align: right;\">\n",
       "      <th></th>\n",
       "      <th>PA1</th>\n",
       "      <th>PA2</th>\n",
       "      <th>PA3</th>\n",
       "      <th>Trọng số</th>\n",
       "      <th>Sum weight</th>\n",
       "      <th>Consistency</th>\n",
       "    </tr>\n",
       "  </thead>\n",
       "  <tbody>\n",
       "    <tr>\n",
       "      <th>0</th>\n",
       "      <td>0.223703</td>\n",
       "      <td>0.234721</td>\n",
       "      <td>0.216981</td>\n",
       "      <td>0.225135</td>\n",
       "      <td>0.675580</td>\n",
       "      <td>3.000778</td>\n",
       "    </tr>\n",
       "    <tr>\n",
       "      <th>1</th>\n",
       "      <td>0.289986</td>\n",
       "      <td>0.304268</td>\n",
       "      <td>0.311321</td>\n",
       "      <td>0.301858</td>\n",
       "      <td>0.905884</td>\n",
       "      <td>3.001028</td>\n",
       "    </tr>\n",
       "    <tr>\n",
       "      <th>2</th>\n",
       "      <td>0.486311</td>\n",
       "      <td>0.461012</td>\n",
       "      <td>0.471698</td>\n",
       "      <td>0.473007</td>\n",
       "      <td>1.419792</td>\n",
       "      <td>3.001629</td>\n",
       "    </tr>\n",
       "  </tbody>\n",
       "</table>\n",
       "</div>"
      ],
      "text/plain": [
       "        PA1       PA2       PA3  Trọng số  Sum weight  Consistency\n",
       "0  0.223703  0.234721  0.216981  0.225135    0.675580     3.000778\n",
       "1  0.289986  0.304268  0.311321  0.301858    0.905884     3.001028\n",
       "2  0.486311  0.461012  0.471698  0.473007    1.419792     3.001629"
      ]
     },
     "execution_count": 63,
     "metadata": {},
     "output_type": "execute_result"
    }
   ],
   "source": [
    "df_weight_env = pd.DataFrame({\"Sum weight\" : sum_weight(df_multi_env)})\n",
    "\n",
    "\n",
    "consitency_env = [consistency(df_weight_env['Sum weight'][0], pa_env[\"Trọng số\"][0]), \n",
    "               consistency(df_weight_env['Sum weight'][1],pa_env[\"Trọng số\"][1]),\n",
    "               consistency(df_weight_env['Sum weight'][2],pa_env[\"Trọng số\"][2])]\n",
    "\n",
    "df_consistency_env = pd.DataFrame({\"Consistency\": consitency_env})\n",
    "#df_consistency_time\n",
    "\n",
    "df_pa_env = pd.concat([pa_env,df_weight_env,df_consistency_env], axis=1, )\n",
    "df_pa_env"
   ]
  },
  {
   "cell_type": "code",
   "execution_count": 64,
   "id": "c047f280",
   "metadata": {},
   "outputs": [
    {
     "data": {
      "text/html": [
       "<div>\n",
       "<style scoped>\n",
       "    .dataframe tbody tr th:only-of-type {\n",
       "        vertical-align: middle;\n",
       "    }\n",
       "\n",
       "    .dataframe tbody tr th {\n",
       "        vertical-align: top;\n",
       "    }\n",
       "\n",
       "    .dataframe thead th {\n",
       "        text-align: right;\n",
       "    }\n",
       "</style>\n",
       "<table border=\"1\" class=\"dataframe\">\n",
       "  <thead>\n",
       "    <tr style=\"text-align: right;\">\n",
       "      <th></th>\n",
       "      <th>PA1</th>\n",
       "      <th>PA2</th>\n",
       "      <th>PA3</th>\n",
       "      <th>Trọng số</th>\n",
       "      <th>Sum weight</th>\n",
       "      <th>Consistency</th>\n",
       "    </tr>\n",
       "  </thead>\n",
       "  <tbody>\n",
       "    <tr>\n",
       "      <th>0</th>\n",
       "      <td>0.576230</td>\n",
       "      <td>0.575835</td>\n",
       "      <td>0.576923</td>\n",
       "      <td>0.576330</td>\n",
       "      <td>1.728991</td>\n",
       "      <td>3.000004</td>\n",
       "    </tr>\n",
       "    <tr>\n",
       "      <th>1</th>\n",
       "      <td>0.270108</td>\n",
       "      <td>0.269923</td>\n",
       "      <td>0.269231</td>\n",
       "      <td>0.269754</td>\n",
       "      <td>0.809262</td>\n",
       "      <td>3.000002</td>\n",
       "    </tr>\n",
       "    <tr>\n",
       "      <th>2</th>\n",
       "      <td>0.153661</td>\n",
       "      <td>0.154242</td>\n",
       "      <td>0.153846</td>\n",
       "      <td>0.153916</td>\n",
       "      <td>0.461749</td>\n",
       "      <td>3.000001</td>\n",
       "    </tr>\n",
       "  </tbody>\n",
       "</table>\n",
       "</div>"
      ],
      "text/plain": [
       "        PA1       PA2       PA3  Trọng số  Sum weight  Consistency\n",
       "0  0.576230  0.575835  0.576923  0.576330    1.728991     3.000004\n",
       "1  0.270108  0.269923  0.269231  0.269754    0.809262     3.000002\n",
       "2  0.153661  0.154242  0.153846  0.153916    0.461749     3.000001"
      ]
     },
     "execution_count": 64,
     "metadata": {},
     "output_type": "execute_result"
    }
   ],
   "source": [
    "df_weight_ess = pd.DataFrame({\"Sum weight\" : sum_weight(df_multi_ess)})\n",
    "\n",
    "\n",
    "consitency_ess = [consistency(df_weight_ess['Sum weight'][0], pa_ess[\"Trọng số\"][0]), \n",
    "               consistency(df_weight_ess['Sum weight'][1],pa_ess[\"Trọng số\"][1]),\n",
    "               consistency(df_weight_ess['Sum weight'][2],pa_ess[\"Trọng số\"][2])]\n",
    "\n",
    "df_consistency_ess = pd.DataFrame({\"Consistency\": consitency_ess})\n",
    "\n",
    "\n",
    "df_pa_ess = pd.concat([pa_ess,df_weight_ess,df_consistency_ess], axis=1, )\n",
    "df_pa_ess"
   ]
  },
  {
   "cell_type": "code",
   "execution_count": 65,
   "id": "701508c7",
   "metadata": {},
   "outputs": [
    {
     "data": {
      "text/html": [
       "<div>\n",
       "<style scoped>\n",
       "    .dataframe tbody tr th:only-of-type {\n",
       "        vertical-align: middle;\n",
       "    }\n",
       "\n",
       "    .dataframe tbody tr th {\n",
       "        vertical-align: top;\n",
       "    }\n",
       "\n",
       "    .dataframe thead th {\n",
       "        text-align: right;\n",
       "    }\n",
       "</style>\n",
       "<table border=\"1\" class=\"dataframe\">\n",
       "  <thead>\n",
       "    <tr style=\"text-align: right;\">\n",
       "      <th></th>\n",
       "      <th>PA1</th>\n",
       "      <th>PA2</th>\n",
       "      <th>PA3</th>\n",
       "      <th>Trọng số</th>\n",
       "      <th>Sum weight</th>\n",
       "      <th>Consistency</th>\n",
       "    </tr>\n",
       "  </thead>\n",
       "  <tbody>\n",
       "    <tr>\n",
       "      <th>0</th>\n",
       "      <td>0.511097</td>\n",
       "      <td>0.512141</td>\n",
       "      <td>0.509434</td>\n",
       "      <td>0.510891</td>\n",
       "      <td>1.532682</td>\n",
       "      <td>3.000020</td>\n",
       "    </tr>\n",
       "    <tr>\n",
       "      <th>1</th>\n",
       "      <td>0.299608</td>\n",
       "      <td>0.300221</td>\n",
       "      <td>0.301887</td>\n",
       "      <td>0.300572</td>\n",
       "      <td>0.901719</td>\n",
       "      <td>3.000012</td>\n",
       "    </tr>\n",
       "    <tr>\n",
       "      <th>2</th>\n",
       "      <td>0.189295</td>\n",
       "      <td>0.187638</td>\n",
       "      <td>0.188679</td>\n",
       "      <td>0.188537</td>\n",
       "      <td>0.565614</td>\n",
       "      <td>3.000007</td>\n",
       "    </tr>\n",
       "  </tbody>\n",
       "</table>\n",
       "</div>"
      ],
      "text/plain": [
       "        PA1       PA2       PA3  Trọng số  Sum weight  Consistency\n",
       "0  0.511097  0.512141  0.509434  0.510891    1.532682     3.000020\n",
       "1  0.299608  0.300221  0.301887  0.300572    0.901719     3.000012\n",
       "2  0.189295  0.187638  0.188679  0.188537    0.565614     3.000007"
      ]
     },
     "execution_count": 65,
     "metadata": {},
     "output_type": "execute_result"
    }
   ],
   "source": [
    "df_weight_eq = pd.DataFrame({\"Sum weight\" : sum_weight(df_multi_eq)})\n",
    "\n",
    "\n",
    "consitency_eq = [consistency(df_weight_eq['Sum weight'][0], pa_eq[\"Trọng số\"][0]), \n",
    "               consistency(df_weight_eq['Sum weight'][1],pa_eq[\"Trọng số\"][1]),\n",
    "               consistency(df_weight_eq['Sum weight'][2],pa_eq[\"Trọng số\"][2])]\n",
    "\n",
    "df_consistency_eq = pd.DataFrame({\"Consistency\": consitency_eq})\n",
    "\n",
    "\n",
    "df_pa_eq = pd.concat([pa_eq,df_weight_eq,df_consistency_eq], axis=1, )\n",
    "df_pa_eq"
   ]
  },
  {
   "cell_type": "code",
   "execution_count": 66,
   "id": "a0ea8fdd",
   "metadata": {},
   "outputs": [
    {
     "data": {
      "text/html": [
       "<div>\n",
       "<style scoped>\n",
       "    .dataframe tbody tr th:only-of-type {\n",
       "        vertical-align: middle;\n",
       "    }\n",
       "\n",
       "    .dataframe tbody tr th {\n",
       "        vertical-align: top;\n",
       "    }\n",
       "\n",
       "    .dataframe thead th {\n",
       "        text-align: right;\n",
       "    }\n",
       "</style>\n",
       "<table border=\"1\" class=\"dataframe\">\n",
       "  <thead>\n",
       "    <tr style=\"text-align: right;\">\n",
       "      <th></th>\n",
       "      <th>PA1</th>\n",
       "      <th>PA2</th>\n",
       "      <th>PA3</th>\n",
       "      <th>Trọng số</th>\n",
       "      <th>Sum weight</th>\n",
       "      <th>Consistency</th>\n",
       "    </tr>\n",
       "  </thead>\n",
       "  <tbody>\n",
       "    <tr>\n",
       "      <th>0</th>\n",
       "      <td>0.511097</td>\n",
       "      <td>0.512141</td>\n",
       "      <td>0.509434</td>\n",
       "      <td>0.510891</td>\n",
       "      <td>1.532682</td>\n",
       "      <td>3.000020</td>\n",
       "    </tr>\n",
       "    <tr>\n",
       "      <th>1</th>\n",
       "      <td>0.299608</td>\n",
       "      <td>0.300221</td>\n",
       "      <td>0.301887</td>\n",
       "      <td>0.300572</td>\n",
       "      <td>0.901719</td>\n",
       "      <td>3.000012</td>\n",
       "    </tr>\n",
       "    <tr>\n",
       "      <th>2</th>\n",
       "      <td>0.189295</td>\n",
       "      <td>0.187638</td>\n",
       "      <td>0.188679</td>\n",
       "      <td>0.188537</td>\n",
       "      <td>0.565614</td>\n",
       "      <td>3.000007</td>\n",
       "    </tr>\n",
       "  </tbody>\n",
       "</table>\n",
       "</div>"
      ],
      "text/plain": [
       "        PA1       PA2       PA3  Trọng số  Sum weight  Consistency\n",
       "0  0.511097  0.512141  0.509434  0.510891    1.532682     3.000020\n",
       "1  0.299608  0.300221  0.301887  0.300572    0.901719     3.000012\n",
       "2  0.189295  0.187638  0.188679  0.188537    0.565614     3.000007"
      ]
     },
     "execution_count": 66,
     "metadata": {},
     "output_type": "execute_result"
    }
   ],
   "source": [
    "df_weight_con = pd.DataFrame({\"Sum weight\" : sum_weight(df_multi_con)})\n",
    "\n",
    "\n",
    "consitency_con = [consistency(df_weight_con['Sum weight'][0], pa_con[\"Trọng số\"][0]), \n",
    "               consistency(df_weight_con['Sum weight'][1],pa_con[\"Trọng số\"][1]),\n",
    "               consistency(df_weight_con['Sum weight'][2],pa_con[\"Trọng số\"][2])]\n",
    "\n",
    "df_consistency_con = pd.DataFrame({\"Consistency\": consitency_con})\n",
    "\n",
    "\n",
    "df_pa_con = pd.concat([pa_con,df_weight_con,df_consistency_eq], axis=1, )\n",
    "df_pa_eq"
   ]
  },
  {
   "cell_type": "code",
   "execution_count": 67,
   "id": "d38007c5",
   "metadata": {},
   "outputs": [],
   "source": [
    "#su dung ham de tinh ratio\n",
    "def lamda_max(df):\n",
    "    return [df.mean()]\n",
    "\n",
    "def consistency_vector(lamda_max, criteria):\n",
    "    return float((lamda_max-criteria)/(criteria-1))\n",
    "\n",
    "def consistency_index(consis_vec, random_idx):\n",
    "    return float((consis_vec/random_idx))"
   ]
  },
  {
   "cell_type": "code",
   "execution_count": 68,
   "id": "0b7f8cfd",
   "metadata": {},
   "outputs": [],
   "source": [
    "# Ratio cua bang thoi gian\n",
    "\n",
    "df__time = pd.DataFrame({\"Lamda max\": lamda_max(df_pa_time[\"Consistency\"]), \"Criteria\": [3.0000], \"Random_idx\": [0.58]})\n",
    "\n",
    "dict_consistency_vec_time = {\"Consistency vector\": [consistency_vector(df__time['Lamda max'], df__time.Criteria)]}\n",
    "df_consistency_vec_time = pd.DataFrame(dict_consistency_vec_time)\n",
    "\n",
    "# df_consistency_vec_time \n",
    "\n",
    "dict_consistency_idx_time = {\"Consistency idx\": [consistency_index(df_consistency_vec_time[\"Consistency vector\"], df__time['Random_idx'])]}\n",
    "df_consistency_idx_time = pd.DataFrame(dict_consistency_idx_time)\n",
    "df_consistency_idx_time\n",
    "\n",
    "df__time = pd.concat([df__time,df_consistency_vec_time,df_consistency_idx_time], axis=1)\n"
   ]
  },
  {
   "cell_type": "code",
   "execution_count": 69,
   "id": "01fe8314",
   "metadata": {},
   "outputs": [
    {
     "name": "stdout",
     "output_type": "stream",
     "text": [
      "GOOD\n"
     ]
    }
   ],
   "source": [
    "if df__time[\"Consistency idx\"].gt(0.1).any():\n",
    "    print(\"BAD\")\n",
    "else:\n",
    "    print(\"GOOD\")"
   ]
  },
  {
   "cell_type": "code",
   "execution_count": 70,
   "id": "12bf0404",
   "metadata": {},
   "outputs": [
    {
     "data": {
      "text/html": [
       "<div>\n",
       "<style scoped>\n",
       "    .dataframe tbody tr th:only-of-type {\n",
       "        vertical-align: middle;\n",
       "    }\n",
       "\n",
       "    .dataframe tbody tr th {\n",
       "        vertical-align: top;\n",
       "    }\n",
       "\n",
       "    .dataframe thead th {\n",
       "        text-align: right;\n",
       "    }\n",
       "</style>\n",
       "<table border=\"1\" class=\"dataframe\">\n",
       "  <thead>\n",
       "    <tr style=\"text-align: right;\">\n",
       "      <th></th>\n",
       "      <th>Lamda max</th>\n",
       "      <th>Criteria</th>\n",
       "      <th>Random_idx</th>\n",
       "      <th>Consistency vector</th>\n",
       "      <th>Consistency idx</th>\n",
       "    </tr>\n",
       "  </thead>\n",
       "  <tbody>\n",
       "    <tr>\n",
       "      <th>0</th>\n",
       "      <td>3.001145</td>\n",
       "      <td>3.0</td>\n",
       "      <td>0.58</td>\n",
       "      <td>0.000572</td>\n",
       "      <td>0.000987</td>\n",
       "    </tr>\n",
       "  </tbody>\n",
       "</table>\n",
       "</div>"
      ],
      "text/plain": [
       "   Lamda max  Criteria  Random_idx  Consistency vector  Consistency idx\n",
       "0   3.001145       3.0        0.58            0.000572         0.000987"
      ]
     },
     "execution_count": 70,
     "metadata": {},
     "output_type": "execute_result"
    }
   ],
   "source": [
    "# Ratio cua bang moi truong\n",
    "\n",
    "df__env = pd.DataFrame({\"Lamda max\": lamda_max(df_pa_env[\"Consistency\"]), \"Criteria\": [3.0000], \"Random_idx\": [0.58]})\n",
    "\n",
    "dict_consistency_vec_env = {\"Consistency vector\": [consistency_vector(df__env['Lamda max'], df__env.Criteria)]}\n",
    "df_consistency_vec_env = pd.DataFrame(dict_consistency_vec_env)\n",
    "\n",
    "\n",
    "dict_consistency_idx_env = {\"Consistency idx\": [consistency_index(df_consistency_vec_env[\"Consistency vector\"], df__env['Random_idx'])]}\n",
    "df_consistency_idx_env = pd.DataFrame(dict_consistency_idx_env)\n",
    "\n",
    "\n",
    "df__env = pd.concat([df__env,df_consistency_vec_env,df_consistency_idx_env], axis=1)\n",
    "df__env"
   ]
  },
  {
   "cell_type": "code",
   "execution_count": 71,
   "id": "78de6420",
   "metadata": {},
   "outputs": [
    {
     "name": "stdout",
     "output_type": "stream",
     "text": [
      "GOOD\n"
     ]
    }
   ],
   "source": [
    "if df__env[\"Consistency idx\"].gt(0.1).any():\n",
    "    print(\"BAD\")\n",
    "else:\n",
    "    print(\"GOOD\")"
   ]
  },
  {
   "cell_type": "code",
   "execution_count": 72,
   "id": "0604773f",
   "metadata": {},
   "outputs": [
    {
     "data": {
      "text/html": [
       "<div>\n",
       "<style scoped>\n",
       "    .dataframe tbody tr th:only-of-type {\n",
       "        vertical-align: middle;\n",
       "    }\n",
       "\n",
       "    .dataframe tbody tr th {\n",
       "        vertical-align: top;\n",
       "    }\n",
       "\n",
       "    .dataframe thead th {\n",
       "        text-align: right;\n",
       "    }\n",
       "</style>\n",
       "<table border=\"1\" class=\"dataframe\">\n",
       "  <thead>\n",
       "    <tr style=\"text-align: right;\">\n",
       "      <th></th>\n",
       "      <th>Lamda max</th>\n",
       "      <th>Criteria</th>\n",
       "      <th>Random_idx</th>\n",
       "      <th>Consistency vector</th>\n",
       "      <th>Consistency idx</th>\n",
       "    </tr>\n",
       "  </thead>\n",
       "  <tbody>\n",
       "    <tr>\n",
       "      <th>0</th>\n",
       "      <td>3.000002</td>\n",
       "      <td>3.0</td>\n",
       "      <td>0.58</td>\n",
       "      <td>0.000001</td>\n",
       "      <td>0.000002</td>\n",
       "    </tr>\n",
       "  </tbody>\n",
       "</table>\n",
       "</div>"
      ],
      "text/plain": [
       "   Lamda max  Criteria  Random_idx  Consistency vector  Consistency idx\n",
       "0   3.000002       3.0        0.58            0.000001         0.000002"
      ]
     },
     "execution_count": 72,
     "metadata": {},
     "output_type": "execute_result"
    }
   ],
   "source": [
    "# Ratio cua bang cap thiet\n",
    "\n",
    "df__ess = pd.DataFrame({\"Lamda max\": lamda_max(df_pa_ess[\"Consistency\"]), \"Criteria\": [3.0000], \"Random_idx\": [0.58]})\n",
    "\n",
    "dict_consistency_vec_ess = {\"Consistency vector\": [consistency_vector(df__ess['Lamda max'], df__ess.Criteria)]}\n",
    "df_consistency_vec_ess = pd.DataFrame(dict_consistency_vec_ess)\n",
    "\n",
    "\n",
    "dict_consistency_idx_ess = {\"Consistency idx\": [consistency_index(df_consistency_vec_ess[\"Consistency vector\"], df__ess['Random_idx'])]}\n",
    "df_consistency_idx_ess = pd.DataFrame(dict_consistency_idx_ess)\n",
    "\n",
    "\n",
    "df__ess = pd.concat([df__ess,df_consistency_vec_ess,df_consistency_idx_ess], axis=1)\n",
    "df__ess"
   ]
  },
  {
   "cell_type": "code",
   "execution_count": 73,
   "id": "b3fef4e2",
   "metadata": {},
   "outputs": [
    {
     "name": "stdout",
     "output_type": "stream",
     "text": [
      "GOOD\n"
     ]
    }
   ],
   "source": [
    "if df__ess[\"Consistency idx\"].gt(0.1).any():\n",
    "    print(\"BAD\")\n",
    "else:\n",
    "    print(\"GOOD\")"
   ]
  },
  {
   "cell_type": "code",
   "execution_count": 74,
   "id": "8c57c084",
   "metadata": {},
   "outputs": [
    {
     "data": {
      "text/html": [
       "<div>\n",
       "<style scoped>\n",
       "    .dataframe tbody tr th:only-of-type {\n",
       "        vertical-align: middle;\n",
       "    }\n",
       "\n",
       "    .dataframe tbody tr th {\n",
       "        vertical-align: top;\n",
       "    }\n",
       "\n",
       "    .dataframe thead th {\n",
       "        text-align: right;\n",
       "    }\n",
       "</style>\n",
       "<table border=\"1\" class=\"dataframe\">\n",
       "  <thead>\n",
       "    <tr style=\"text-align: right;\">\n",
       "      <th></th>\n",
       "      <th>Lamda max</th>\n",
       "      <th>Criteria</th>\n",
       "      <th>Random_idx</th>\n",
       "      <th>Consistency vector</th>\n",
       "      <th>Consistency idx</th>\n",
       "    </tr>\n",
       "  </thead>\n",
       "  <tbody>\n",
       "    <tr>\n",
       "      <th>0</th>\n",
       "      <td>3.000013</td>\n",
       "      <td>3.0</td>\n",
       "      <td>0.58</td>\n",
       "      <td>0.000007</td>\n",
       "      <td>0.000011</td>\n",
       "    </tr>\n",
       "  </tbody>\n",
       "</table>\n",
       "</div>"
      ],
      "text/plain": [
       "   Lamda max  Criteria  Random_idx  Consistency vector  Consistency idx\n",
       "0   3.000013       3.0        0.58            0.000007         0.000011"
      ]
     },
     "execution_count": 74,
     "metadata": {},
     "output_type": "execute_result"
    }
   ],
   "source": [
    "# Ratio cua bang trang bi\n",
    "\n",
    "df__eq = pd.DataFrame({\"Lamda max\": lamda_max(df_pa_eq[\"Consistency\"]), \"Criteria\": [3.0000], \"Random_idx\": [0.58]})\n",
    "\n",
    "dict_consistency_vec_eq = {\"Consistency vector\": [consistency_vector(df__eq['Lamda max'], df__eq.Criteria)]}\n",
    "df_consistency_vec_eq = pd.DataFrame(dict_consistency_vec_eq)\n",
    "\n",
    "\n",
    "dict_consistency_idx_eq = {\"Consistency idx\": [consistency_index(df_consistency_vec_eq[\"Consistency vector\"], df__ess['Random_idx'])]}\n",
    "df_consistency_idx_eq = pd.DataFrame(dict_consistency_idx_eq)\n",
    "\n",
    "\n",
    "df__eq = pd.concat([df__eq,df_consistency_vec_eq,df_consistency_idx_eq], axis=1)\n",
    "df__eq"
   ]
  },
  {
   "cell_type": "code",
   "execution_count": 75,
   "id": "b29ae850",
   "metadata": {},
   "outputs": [
    {
     "name": "stdout",
     "output_type": "stream",
     "text": [
      "GOOD\n"
     ]
    }
   ],
   "source": [
    "if df__eq[\"Consistency idx\"].gt(0.1).any():\n",
    "    print(\"BAD\")\n",
    "else:\n",
    "    print(\"GOOD\")"
   ]
  },
  {
   "cell_type": "code",
   "execution_count": 76,
   "id": "17a9fd4c",
   "metadata": {},
   "outputs": [
    {
     "data": {
      "text/html": [
       "<div>\n",
       "<style scoped>\n",
       "    .dataframe tbody tr th:only-of-type {\n",
       "        vertical-align: middle;\n",
       "    }\n",
       "\n",
       "    .dataframe tbody tr th {\n",
       "        vertical-align: top;\n",
       "    }\n",
       "\n",
       "    .dataframe thead th {\n",
       "        text-align: right;\n",
       "    }\n",
       "</style>\n",
       "<table border=\"1\" class=\"dataframe\">\n",
       "  <thead>\n",
       "    <tr style=\"text-align: right;\">\n",
       "      <th></th>\n",
       "      <th>Lamda max</th>\n",
       "      <th>Criteria</th>\n",
       "      <th>Random_idx</th>\n",
       "      <th>Consistency vector</th>\n",
       "      <th>Consistency idx</th>\n",
       "    </tr>\n",
       "  </thead>\n",
       "  <tbody>\n",
       "    <tr>\n",
       "      <th>0</th>\n",
       "      <td>3.000013</td>\n",
       "      <td>3.0</td>\n",
       "      <td>0.58</td>\n",
       "      <td>0.000007</td>\n",
       "      <td>0.000011</td>\n",
       "    </tr>\n",
       "  </tbody>\n",
       "</table>\n",
       "</div>"
      ],
      "text/plain": [
       "   Lamda max  Criteria  Random_idx  Consistency vector  Consistency idx\n",
       "0   3.000013       3.0        0.58            0.000007         0.000011"
      ]
     },
     "execution_count": 76,
     "metadata": {},
     "output_type": "execute_result"
    }
   ],
   "source": [
    "# Ratio cua bang dieu kien\n",
    "\n",
    "df__con = pd.DataFrame({\"Lamda max\": lamda_max(df_pa_con[\"Consistency\"]), \"Criteria\": [3.0000], \"Random_idx\": [0.58]})\n",
    "\n",
    "dict_consistency_vec_con = {\"Consistency vector\": [consistency_vector(df__eq['Lamda max'], df__eq.Criteria)]}\n",
    "df_consistency_vec_con = pd.DataFrame(dict_consistency_vec_con)\n",
    "\n",
    "\n",
    "dict_consistency_idx_con = {\"Consistency idx\": [consistency_index(df_consistency_vec_con[\"Consistency vector\"], df__con['Random_idx'])]}\n",
    "df_consistency_idx_con = pd.DataFrame(dict_consistency_idx_con)\n",
    "\n",
    "\n",
    "df__con = pd.concat([df__con,df_consistency_vec_con,df_consistency_idx_con], axis=1)\n",
    "df__con"
   ]
  },
  {
   "cell_type": "code",
   "execution_count": 77,
   "id": "e2d025ae",
   "metadata": {},
   "outputs": [
    {
     "name": "stdout",
     "output_type": "stream",
     "text": [
      "GOOD\n"
     ]
    }
   ],
   "source": [
    "if df__con[\"Consistency idx\"].gt(0.1).any():\n",
    "    print(\"BAD\")\n",
    "else:\n",
    "    print(\"GOOD\")"
   ]
  },
  {
   "cell_type": "code",
   "execution_count": 78,
   "id": "16afea52",
   "metadata": {},
   "outputs": [],
   "source": [
    "df_final = pd.DataFrame({\"Thời gian\": pa_time[\"Trọng số\"],\n",
    "            \"Môi trường\": pa_env[\"Trọng số\"],\n",
    "            \"Cấp thiết\":pa_ess[\"Trọng số\"],\n",
    "            \"Trang bị\": pa_eq[\"Trọng số\"],\n",
    "            \"Điều kiện\": pa_con[\"Trọng số\"],\n",
    "           })\n"
   ]
  },
  {
   "cell_type": "code",
   "execution_count": 79,
   "id": "54a69693",
   "metadata": {},
   "outputs": [
    {
     "data": {
      "text/html": [
       "<div>\n",
       "<style scoped>\n",
       "    .dataframe tbody tr th:only-of-type {\n",
       "        vertical-align: middle;\n",
       "    }\n",
       "\n",
       "    .dataframe tbody tr th {\n",
       "        vertical-align: top;\n",
       "    }\n",
       "\n",
       "    .dataframe thead th {\n",
       "        text-align: right;\n",
       "    }\n",
       "</style>\n",
       "<table border=\"1\" class=\"dataframe\">\n",
       "  <thead>\n",
       "    <tr style=\"text-align: right;\">\n",
       "      <th></th>\n",
       "      <th>Thời gian</th>\n",
       "      <th>Môi trường</th>\n",
       "      <th>Cấp thiết</th>\n",
       "      <th>Trang bị</th>\n",
       "      <th>Điều kiện</th>\n",
       "    </tr>\n",
       "  </thead>\n",
       "  <tbody>\n",
       "    <tr>\n",
       "      <th>0</th>\n",
       "      <td>0.095715</td>\n",
       "      <td>0.225135</td>\n",
       "      <td>0.576330</td>\n",
       "      <td>0.510891</td>\n",
       "      <td>0.484745</td>\n",
       "    </tr>\n",
       "    <tr>\n",
       "      <th>1</th>\n",
       "      <td>0.267066</td>\n",
       "      <td>0.301858</td>\n",
       "      <td>0.269754</td>\n",
       "      <td>0.300572</td>\n",
       "      <td>0.308537</td>\n",
       "    </tr>\n",
       "    <tr>\n",
       "      <th>2</th>\n",
       "      <td>0.637219</td>\n",
       "      <td>0.473007</td>\n",
       "      <td>0.153916</td>\n",
       "      <td>0.188537</td>\n",
       "      <td>0.206718</td>\n",
       "    </tr>\n",
       "  </tbody>\n",
       "</table>\n",
       "</div>"
      ],
      "text/plain": [
       "   Thời gian  Môi trường  Cấp thiết  Trang bị  Điều kiện\n",
       "0   0.095715    0.225135   0.576330  0.510891   0.484745\n",
       "1   0.267066    0.301858   0.269754  0.300572   0.308537\n",
       "2   0.637219    0.473007   0.153916  0.188537   0.206718"
      ]
     },
     "execution_count": 79,
     "metadata": {},
     "output_type": "execute_result"
    }
   ],
   "source": [
    "df_final"
   ]
  },
  {
   "cell_type": "code",
   "execution_count": 80,
   "id": "e3707d51",
   "metadata": {},
   "outputs": [],
   "source": [
    "Criteria_weight = pd.DataFrame(data_tab4['Citeria'])\n"
   ]
  },
  {
   "cell_type": "code",
   "execution_count": 81,
   "id": "f0ac3d74",
   "metadata": {},
   "outputs": [
    {
     "data": {
      "text/html": [
       "<div>\n",
       "<style scoped>\n",
       "    .dataframe tbody tr th:only-of-type {\n",
       "        vertical-align: middle;\n",
       "    }\n",
       "\n",
       "    .dataframe tbody tr th {\n",
       "        vertical-align: top;\n",
       "    }\n",
       "\n",
       "    .dataframe thead th {\n",
       "        text-align: right;\n",
       "    }\n",
       "</style>\n",
       "<table border=\"1\" class=\"dataframe\">\n",
       "  <thead>\n",
       "    <tr style=\"text-align: right;\">\n",
       "      <th></th>\n",
       "      <th>Citeria</th>\n",
       "    </tr>\n",
       "  </thead>\n",
       "  <tbody>\n",
       "    <tr>\n",
       "      <th>Thời gian</th>\n",
       "      <td>0.460423</td>\n",
       "    </tr>\n",
       "    <tr>\n",
       "      <th>Môi trường</th>\n",
       "      <td>0.125802</td>\n",
       "    </tr>\n",
       "    <tr>\n",
       "      <th>cấp thiết</th>\n",
       "      <td>0.126169</td>\n",
       "    </tr>\n",
       "    <tr>\n",
       "      <th>Trang bị</th>\n",
       "      <td>0.125848</td>\n",
       "    </tr>\n",
       "    <tr>\n",
       "      <th>Điều kiện</th>\n",
       "      <td>0.161757</td>\n",
       "    </tr>\n",
       "  </tbody>\n",
       "</table>\n",
       "</div>"
      ],
      "text/plain": [
       "             Citeria\n",
       "Thời gian   0.460423\n",
       "Môi trường  0.125802\n",
       "cấp thiết   0.126169\n",
       "Trang bị    0.125848\n",
       "Điều kiện   0.161757"
      ]
     },
     "execution_count": 81,
     "metadata": {},
     "output_type": "execute_result"
    }
   ],
   "source": [
    "Criteria_weight "
   ]
  },
  {
   "cell_type": "code",
   "execution_count": 82,
   "id": "7bb429cc",
   "metadata": {},
   "outputs": [
    {
     "data": {
      "text/html": [
       "<div>\n",
       "<style scoped>\n",
       "    .dataframe tbody tr th:only-of-type {\n",
       "        vertical-align: middle;\n",
       "    }\n",
       "\n",
       "    .dataframe tbody tr th {\n",
       "        vertical-align: top;\n",
       "    }\n",
       "\n",
       "    .dataframe thead th {\n",
       "        text-align: right;\n",
       "    }\n",
       "</style>\n",
       "<table border=\"1\" class=\"dataframe\">\n",
       "  <thead>\n",
       "    <tr style=\"text-align: right;\">\n",
       "      <th></th>\n",
       "      <th>0</th>\n",
       "    </tr>\n",
       "  </thead>\n",
       "  <tbody>\n",
       "    <tr>\n",
       "      <th>PA1</th>\n",
       "      <td>Ra ngoài cùng với khẩu trang</td>\n",
       "    </tr>\n",
       "    <tr>\n",
       "      <th>PA2</th>\n",
       "      <td>Ra ngoài cùng với các phương tiện di chuyển có...</td>\n",
       "    </tr>\n",
       "    <tr>\n",
       "      <th>PA3</th>\n",
       "      <td>Không ra ngoài</td>\n",
       "    </tr>\n",
       "  </tbody>\n",
       "</table>\n",
       "</div>"
      ],
      "text/plain": [
       "                                                     0\n",
       "PA1                       Ra ngoài cùng với khẩu trang\n",
       "PA2  Ra ngoài cùng với các phương tiện di chuyển có...\n",
       "PA3                                     Không ra ngoài"
      ]
     },
     "execution_count": 82,
     "metadata": {},
     "output_type": "execute_result"
    }
   ],
   "source": [
    "phuong_an = pd.DataFrame({\"PA1\":['Ra ngoài cùng với khẩu trang'] , \n",
    "                          \"PA2\":['Ra ngoài cùng với các phương tiện di chuyển có sự ngăn chặn các tác hại từ môi trường bên ngoài như (xe con, xe buýt, tàu hỏa, ...)'],\n",
    "                          \"PA3\":['Không ra ngoài']}\n",
    "                           )\n",
    "\n",
    "phuong_an.T\n"
   ]
  },
  {
   "cell_type": "code",
   "execution_count": 83,
   "id": "c4e82f11",
   "metadata": {},
   "outputs": [],
   "source": [
    "#hàm tích hai ma trận\n",
    "def tich_ma_tran(df, criteria):\n",
    "\n",
    "    result = []\n",
    "    for i in range(len(df)):\n",
    "        row = df.iloc[i].fillna(0).tolist() \n",
    "        if len(row) == len(criteria): \n",
    "            result.append(np.matmul(row, criteria))\n",
    "        else:\n",
    "            print(\"độ dài ma trận không hợp lệ\")\n",
    "    return result\n"
   ]
  },
  {
   "cell_type": "code",
   "execution_count": 84,
   "id": "40254892",
   "metadata": {},
   "outputs": [],
   "source": [
    "rank = tich_ma_tran(df_final, Criteria_weight['Citeria'])"
   ]
  },
  {
   "cell_type": "code",
   "execution_count": 85,
   "id": "a5fb75fe",
   "metadata": {},
   "outputs": [
    {
     "name": "stdout",
     "output_type": "stream",
     "text": [
      "[0.2878127593427075, 0.2827069281823856, 0.4294803124749069]\n"
     ]
    }
   ],
   "source": [
    "print(rank)"
   ]
  },
  {
   "cell_type": "code",
   "execution_count": 86,
   "id": "25d65c05",
   "metadata": {},
   "outputs": [],
   "source": [
    "dict_rank = pd.DataFrame({\"Rank\": rank }, index=[\"PA1\", \"PA2\", \"PA3\"])"
   ]
  },
  {
   "cell_type": "code",
   "execution_count": 87,
   "id": "0fb2f175",
   "metadata": {},
   "outputs": [
    {
     "data": {
      "text/html": [
       "<div>\n",
       "<style scoped>\n",
       "    .dataframe tbody tr th:only-of-type {\n",
       "        vertical-align: middle;\n",
       "    }\n",
       "\n",
       "    .dataframe tbody tr th {\n",
       "        vertical-align: top;\n",
       "    }\n",
       "\n",
       "    .dataframe thead th {\n",
       "        text-align: right;\n",
       "    }\n",
       "</style>\n",
       "<table border=\"1\" class=\"dataframe\">\n",
       "  <thead>\n",
       "    <tr style=\"text-align: right;\">\n",
       "      <th></th>\n",
       "      <th>Rank</th>\n",
       "    </tr>\n",
       "  </thead>\n",
       "  <tbody>\n",
       "    <tr>\n",
       "      <th>PA1</th>\n",
       "      <td>0.287813</td>\n",
       "    </tr>\n",
       "    <tr>\n",
       "      <th>PA2</th>\n",
       "      <td>0.282707</td>\n",
       "    </tr>\n",
       "    <tr>\n",
       "      <th>PA3</th>\n",
       "      <td>0.429480</td>\n",
       "    </tr>\n",
       "  </tbody>\n",
       "</table>\n",
       "</div>"
      ],
      "text/plain": [
       "         Rank\n",
       "PA1  0.287813\n",
       "PA2  0.282707\n",
       "PA3  0.429480"
      ]
     },
     "execution_count": 87,
     "metadata": {},
     "output_type": "execute_result"
    }
   ],
   "source": [
    "dict_rank"
   ]
  },
  {
   "cell_type": "code",
   "execution_count": 88,
   "id": "8e490a36",
   "metadata": {},
   "outputs": [],
   "source": [
    "#Ta thấy PA3 có chỉ số cao nhất 0.429480 -> chọn Phương án 3: không ra ngoài"
   ]
  },
  {
   "cell_type": "code",
   "execution_count": null,
   "id": "acac8df5",
   "metadata": {},
   "outputs": [],
   "source": []
  }
 ],
 "metadata": {
  "kernelspec": {
   "display_name": "Python 3 (ipykernel)",
   "language": "python",
   "name": "python3"
  },
  "language_info": {
   "codemirror_mode": {
    "name": "ipython",
    "version": 3
   },
   "file_extension": ".py",
   "mimetype": "text/x-python",
   "name": "python",
   "nbconvert_exporter": "python",
   "pygments_lexer": "ipython3",
   "version": "3.9.13"
  }
 },
 "nbformat": 4,
 "nbformat_minor": 5
}
